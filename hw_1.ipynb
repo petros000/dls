{
 "cells": [
  {
   "cell_type": "markdown",
   "id": "5046550b-2980-4468-b88c-5e68c778131f",
   "metadata": {},
   "source": [
    "Описание данных:\n",
    "* **name**: Имя персонажа\n",
    "* **Title**: Социальный статус или знатность\n",
    "* **House**: Дом, к которому принадлежит персонаж\n",
    "* **Culture**: Социальная группа, к которой принадлежит персонаж\n",
    "* **book1/2/3/4/5**: Появление персонажа в книге\n",
    "* **Is noble**: Знатность персонажа, основанное на титуле\n",
    "* **Age**: Отсчет времени: 305 AC\n",
    "* **male**: Мужчина или женщина\n",
    "* **dateOfBirth**: дата рождения\n",
    "* **Spouse**: Имя супруги\\а персонажа\n",
    "* **Father**: Имя отца персонажа\n",
    "* **Mother**: Имя матери персонажа\n",
    "* **Heir**: Имя наследника персонажа\n",
    "* **Is married**: Represents whether the character is married\n",
    "* **Is spouse alive**: Represents whether character's spouse is alive\n",
    "* **Is mother alive:** Жива ли мать персонажа\n",
    "* **Is heir alive:** Жив ли наследник персонажа\n",
    "* **Is father alive:** Указывает, жив ли отец персонажа\n",
    "* **Number dead relations:** Количество умерших персонажей, с которыми персонаж связан\n",
    "* **Popularity score:** Количество внутренних входящих и исходящих ссылок на страницу персонажей в вики http://awoiaf.westeros.org\n",
    "Целевая переменная:\n",
    "* **isAlive**: жив ли персонаж в книге"
   ]
  },
  {
   "cell_type": "markdown",
   "id": "7ecee896-63fd-4bf5-8cab-21ad1ceb3e89",
   "metadata": {},
   "source": [
    "### Часть 1. Анализ данных"
   ]
  },
  {
   "cell_type": "raw",
   "id": "d006fdad-39af-4c4e-8dd9-82a31c33604c",
   "metadata": {},
   "source": [
    "Здесь необходимо сделать все шаги, которые обсуждались в первой части семинара.\n",
    "\n",
    "Предобработка данных\n",
    "Обработка пропущенных данных\n",
    "Создание новых признаков\n",
    "Удаление ненужных столбцов\n",
    "Анализ данных\n",
    "Анализ целевой переменной\n",
    "Анализ признаков\n",
    "Анализ влияния признаков на целевую переменную\n",
    "Подготовка данных для обучения модели"
   ]
  },
  {
   "cell_type": "markdown",
   "id": "5fc9edc5-7a25-4118-a6ea-9046c85721e3",
   "metadata": {},
   "source": [
    "#### **Задание 1.1.** Импортируйте библиотеки pandas, matplotlib, seaborn"
   ]
  },
  {
   "cell_type": "code",
   "execution_count": 1,
   "id": "7e8721c5-634d-4f7f-b238-6fd56726189e",
   "metadata": {},
   "outputs": [],
   "source": [
    "import pandas as pd\n",
    "import numpy as np\n",
    "import matplotlib.pyplot as plt\n",
    "import seaborn\n",
    "\n",
    "from sklearn.impute import SimpleImputer\n",
    "from sklearn.preprocessing import OneHotEncoder\n",
    "from sklearn.model_selection import train_test_split"
   ]
  },
  {
   "cell_type": "markdown",
   "id": "818946dc-8b17-404b-84b6-6864fb1df413",
   "metadata": {},
   "source": [
    "#### **Задание 1.2.** Загрузите датасет в Pandas DataFrame при помощи функции `read_csv`. Вместо дефолтных наименований строк `0,1,...`, при помощи параметра `index_col`, сделайте значения колонки `S.No` наименованиями строк:"
   ]
  },
  {
   "cell_type": "code",
   "execution_count": 2,
   "id": "d7837710-c0ce-4c86-8f88-2d845a672008",
   "metadata": {},
   "outputs": [],
   "source": [
    "data_train = pd.read_csv('game_of_thrones_train.csv', sep=',')\n",
    "data_test = pd.read_csv('game_of_thrones_test.csv', sep=',')"
   ]
  },
  {
   "cell_type": "code",
   "execution_count": 3,
   "id": "b891ff85-ff50-441a-8a26-046f1d0cdb44",
   "metadata": {},
   "outputs": [
    {
     "data": {
      "text/plain": [
       "(0, 1)"
      ]
     },
     "execution_count": 3,
     "metadata": {},
     "output_type": "execute_result"
    }
   ],
   "source": [
    "train_colls = data_train.columns\n",
    "test_colls = data_test.columns\n",
    "len(set(test_colls) - set(train_colls)), len(set(train_colls) - set(test_colls))"
   ]
  },
  {
   "cell_type": "code",
   "execution_count": 4,
   "id": "9a74261f-904a-477c-ae98-51324f3cf35f",
   "metadata": {},
   "outputs": [
    {
     "data": {
      "text/plain": [
       "Index(['S.No', 'name', 'title', 'male', 'culture', 'dateOfBirth', 'mother',\n",
       "       'father', 'heir', 'house', 'spouse', 'book1', 'book2', 'book3', 'book4',\n",
       "       'book5', 'isAliveMother', 'isAliveFather', 'isAliveHeir',\n",
       "       'isAliveSpouse', 'isMarried', 'isNoble', 'age', 'numDeadRelations',\n",
       "       'popularity', 'isAlive'],\n",
       "      dtype='object')"
      ]
     },
     "execution_count": 4,
     "metadata": {},
     "output_type": "execute_result"
    }
   ],
   "source": [
    "train_colls"
   ]
  },
  {
   "cell_type": "code",
   "execution_count": 5,
   "id": "a1aa2b04-f75e-4a21-aed6-ad1a2b655e4c",
   "metadata": {},
   "outputs": [
    {
     "data": {
      "text/plain": [
       "S.No                False\n",
       "name                False\n",
       "title                True\n",
       "male                False\n",
       "culture              True\n",
       "dateOfBirth          True\n",
       "mother               True\n",
       "father               True\n",
       "heir                 True\n",
       "house                True\n",
       "spouse               True\n",
       "book1               False\n",
       "book2               False\n",
       "book3               False\n",
       "book4               False\n",
       "book5               False\n",
       "isAliveMother        True\n",
       "isAliveFather        True\n",
       "isAliveHeir          True\n",
       "isAliveSpouse        True\n",
       "isMarried           False\n",
       "isNoble             False\n",
       "age                  True\n",
       "numDeadRelations    False\n",
       "popularity          False\n",
       "isAlive             False\n",
       "dtype: bool"
      ]
     },
     "execution_count": 5,
     "metadata": {},
     "output_type": "execute_result"
    }
   ],
   "source": [
    "data_train.isna().any()"
   ]
  },
  {
   "cell_type": "code",
   "execution_count": 6,
   "id": "028c72cb-aed6-481c-8814-9295925b1593",
   "metadata": {},
   "outputs": [
    {
     "data": {
      "text/html": [
       "<div>\n",
       "<style scoped>\n",
       "    .dataframe tbody tr th:only-of-type {\n",
       "        vertical-align: middle;\n",
       "    }\n",
       "\n",
       "    .dataframe tbody tr th {\n",
       "        vertical-align: top;\n",
       "    }\n",
       "\n",
       "    .dataframe thead th {\n",
       "        text-align: right;\n",
       "    }\n",
       "</style>\n",
       "<table border=\"1\" class=\"dataframe\">\n",
       "  <thead>\n",
       "    <tr style=\"text-align: right;\">\n",
       "      <th></th>\n",
       "      <th>S.No</th>\n",
       "      <th>male</th>\n",
       "      <th>dateOfBirth</th>\n",
       "      <th>book1</th>\n",
       "      <th>book2</th>\n",
       "      <th>book3</th>\n",
       "      <th>book4</th>\n",
       "      <th>book5</th>\n",
       "      <th>isAliveMother</th>\n",
       "      <th>isAliveFather</th>\n",
       "      <th>isAliveHeir</th>\n",
       "      <th>isAliveSpouse</th>\n",
       "      <th>isMarried</th>\n",
       "      <th>isNoble</th>\n",
       "      <th>age</th>\n",
       "      <th>numDeadRelations</th>\n",
       "      <th>popularity</th>\n",
       "      <th>isAlive</th>\n",
       "    </tr>\n",
       "  </thead>\n",
       "  <tbody>\n",
       "    <tr>\n",
       "      <th>count</th>\n",
       "      <td>1557.000000</td>\n",
       "      <td>1557.000000</td>\n",
       "      <td>279.000000</td>\n",
       "      <td>1557.000000</td>\n",
       "      <td>1557.000000</td>\n",
       "      <td>1557.000000</td>\n",
       "      <td>1557.000000</td>\n",
       "      <td>1557.000000</td>\n",
       "      <td>18.000000</td>\n",
       "      <td>22.000000</td>\n",
       "      <td>21.000000</td>\n",
       "      <td>200.00000</td>\n",
       "      <td>1557.000000</td>\n",
       "      <td>1557.000000</td>\n",
       "      <td>279.000000</td>\n",
       "      <td>1557.000000</td>\n",
       "      <td>1557.000000</td>\n",
       "      <td>1557.000000</td>\n",
       "    </tr>\n",
       "    <tr>\n",
       "      <th>mean</th>\n",
       "      <td>779.000000</td>\n",
       "      <td>0.590880</td>\n",
       "      <td>247.551971</td>\n",
       "      <td>0.138728</td>\n",
       "      <td>0.327553</td>\n",
       "      <td>0.431599</td>\n",
       "      <td>0.562620</td>\n",
       "      <td>0.330122</td>\n",
       "      <td>0.666667</td>\n",
       "      <td>0.227273</td>\n",
       "      <td>0.666667</td>\n",
       "      <td>0.79000</td>\n",
       "      <td>0.128452</td>\n",
       "      <td>0.439306</td>\n",
       "      <td>35.290323</td>\n",
       "      <td>0.187540</td>\n",
       "      <td>0.062400</td>\n",
       "      <td>0.778420</td>\n",
       "    </tr>\n",
       "    <tr>\n",
       "      <th>std</th>\n",
       "      <td>449.611499</td>\n",
       "      <td>0.491829</td>\n",
       "      <td>61.550441</td>\n",
       "      <td>0.345774</td>\n",
       "      <td>0.469472</td>\n",
       "      <td>0.495458</td>\n",
       "      <td>0.496223</td>\n",
       "      <td>0.470408</td>\n",
       "      <td>0.485071</td>\n",
       "      <td>0.428932</td>\n",
       "      <td>0.483046</td>\n",
       "      <td>0.40833</td>\n",
       "      <td>0.334700</td>\n",
       "      <td>0.496462</td>\n",
       "      <td>26.364864</td>\n",
       "      <td>1.114648</td>\n",
       "      <td>0.121416</td>\n",
       "      <td>0.415443</td>\n",
       "    </tr>\n",
       "    <tr>\n",
       "      <th>min</th>\n",
       "      <td>1.000000</td>\n",
       "      <td>0.000000</td>\n",
       "      <td>-25.000000</td>\n",
       "      <td>0.000000</td>\n",
       "      <td>0.000000</td>\n",
       "      <td>0.000000</td>\n",
       "      <td>0.000000</td>\n",
       "      <td>0.000000</td>\n",
       "      <td>0.000000</td>\n",
       "      <td>0.000000</td>\n",
       "      <td>0.000000</td>\n",
       "      <td>0.00000</td>\n",
       "      <td>0.000000</td>\n",
       "      <td>0.000000</td>\n",
       "      <td>0.000000</td>\n",
       "      <td>0.000000</td>\n",
       "      <td>0.000000</td>\n",
       "      <td>0.000000</td>\n",
       "    </tr>\n",
       "    <tr>\n",
       "      <th>25%</th>\n",
       "      <td>390.000000</td>\n",
       "      <td>0.000000</td>\n",
       "      <td>241.000000</td>\n",
       "      <td>0.000000</td>\n",
       "      <td>0.000000</td>\n",
       "      <td>0.000000</td>\n",
       "      <td>0.000000</td>\n",
       "      <td>0.000000</td>\n",
       "      <td>0.000000</td>\n",
       "      <td>0.000000</td>\n",
       "      <td>0.000000</td>\n",
       "      <td>1.00000</td>\n",
       "      <td>0.000000</td>\n",
       "      <td>0.000000</td>\n",
       "      <td>16.000000</td>\n",
       "      <td>0.000000</td>\n",
       "      <td>0.013378</td>\n",
       "      <td>1.000000</td>\n",
       "    </tr>\n",
       "    <tr>\n",
       "      <th>50%</th>\n",
       "      <td>779.000000</td>\n",
       "      <td>1.000000</td>\n",
       "      <td>272.000000</td>\n",
       "      <td>0.000000</td>\n",
       "      <td>0.000000</td>\n",
       "      <td>0.000000</td>\n",
       "      <td>1.000000</td>\n",
       "      <td>0.000000</td>\n",
       "      <td>1.000000</td>\n",
       "      <td>0.000000</td>\n",
       "      <td>1.000000</td>\n",
       "      <td>1.00000</td>\n",
       "      <td>0.000000</td>\n",
       "      <td>0.000000</td>\n",
       "      <td>24.000000</td>\n",
       "      <td>0.000000</td>\n",
       "      <td>0.023411</td>\n",
       "      <td>1.000000</td>\n",
       "    </tr>\n",
       "    <tr>\n",
       "      <th>75%</th>\n",
       "      <td>1168.000000</td>\n",
       "      <td>1.000000</td>\n",
       "      <td>286.000000</td>\n",
       "      <td>0.000000</td>\n",
       "      <td>1.000000</td>\n",
       "      <td>1.000000</td>\n",
       "      <td>1.000000</td>\n",
       "      <td>1.000000</td>\n",
       "      <td>1.000000</td>\n",
       "      <td>0.000000</td>\n",
       "      <td>1.000000</td>\n",
       "      <td>1.00000</td>\n",
       "      <td>0.000000</td>\n",
       "      <td>1.000000</td>\n",
       "      <td>49.000000</td>\n",
       "      <td>0.000000</td>\n",
       "      <td>0.063545</td>\n",
       "      <td>1.000000</td>\n",
       "    </tr>\n",
       "    <tr>\n",
       "      <th>max</th>\n",
       "      <td>1557.000000</td>\n",
       "      <td>1.000000</td>\n",
       "      <td>299.000000</td>\n",
       "      <td>1.000000</td>\n",
       "      <td>1.000000</td>\n",
       "      <td>1.000000</td>\n",
       "      <td>1.000000</td>\n",
       "      <td>1.000000</td>\n",
       "      <td>1.000000</td>\n",
       "      <td>1.000000</td>\n",
       "      <td>1.000000</td>\n",
       "      <td>1.00000</td>\n",
       "      <td>1.000000</td>\n",
       "      <td>1.000000</td>\n",
       "      <td>100.000000</td>\n",
       "      <td>15.000000</td>\n",
       "      <td>1.000000</td>\n",
       "      <td>1.000000</td>\n",
       "    </tr>\n",
       "  </tbody>\n",
       "</table>\n",
       "</div>"
      ],
      "text/plain": [
       "              S.No         male  dateOfBirth        book1        book2  \\\n",
       "count  1557.000000  1557.000000   279.000000  1557.000000  1557.000000   \n",
       "mean    779.000000     0.590880   247.551971     0.138728     0.327553   \n",
       "std     449.611499     0.491829    61.550441     0.345774     0.469472   \n",
       "min       1.000000     0.000000   -25.000000     0.000000     0.000000   \n",
       "25%     390.000000     0.000000   241.000000     0.000000     0.000000   \n",
       "50%     779.000000     1.000000   272.000000     0.000000     0.000000   \n",
       "75%    1168.000000     1.000000   286.000000     0.000000     1.000000   \n",
       "max    1557.000000     1.000000   299.000000     1.000000     1.000000   \n",
       "\n",
       "             book3        book4        book5  isAliveMother  isAliveFather  \\\n",
       "count  1557.000000  1557.000000  1557.000000      18.000000      22.000000   \n",
       "mean      0.431599     0.562620     0.330122       0.666667       0.227273   \n",
       "std       0.495458     0.496223     0.470408       0.485071       0.428932   \n",
       "min       0.000000     0.000000     0.000000       0.000000       0.000000   \n",
       "25%       0.000000     0.000000     0.000000       0.000000       0.000000   \n",
       "50%       0.000000     1.000000     0.000000       1.000000       0.000000   \n",
       "75%       1.000000     1.000000     1.000000       1.000000       0.000000   \n",
       "max       1.000000     1.000000     1.000000       1.000000       1.000000   \n",
       "\n",
       "       isAliveHeir  isAliveSpouse    isMarried      isNoble         age  \\\n",
       "count    21.000000      200.00000  1557.000000  1557.000000  279.000000   \n",
       "mean      0.666667        0.79000     0.128452     0.439306   35.290323   \n",
       "std       0.483046        0.40833     0.334700     0.496462   26.364864   \n",
       "min       0.000000        0.00000     0.000000     0.000000    0.000000   \n",
       "25%       0.000000        1.00000     0.000000     0.000000   16.000000   \n",
       "50%       1.000000        1.00000     0.000000     0.000000   24.000000   \n",
       "75%       1.000000        1.00000     0.000000     1.000000   49.000000   \n",
       "max       1.000000        1.00000     1.000000     1.000000  100.000000   \n",
       "\n",
       "       numDeadRelations   popularity      isAlive  \n",
       "count       1557.000000  1557.000000  1557.000000  \n",
       "mean           0.187540     0.062400     0.778420  \n",
       "std            1.114648     0.121416     0.415443  \n",
       "min            0.000000     0.000000     0.000000  \n",
       "25%            0.000000     0.013378     1.000000  \n",
       "50%            0.000000     0.023411     1.000000  \n",
       "75%            0.000000     0.063545     1.000000  \n",
       "max           15.000000     1.000000     1.000000  "
      ]
     },
     "execution_count": 6,
     "metadata": {},
     "output_type": "execute_result"
    }
   ],
   "source": [
    "data_train.describe()"
   ]
  },
  {
   "cell_type": "code",
   "execution_count": 7,
   "id": "f3106846-ea1d-408f-ad13-4f68cdea2db6",
   "metadata": {},
   "outputs": [],
   "source": [
    "submission = pd.read_csv('submission.csv', sep=',')"
   ]
  },
  {
   "cell_type": "code",
   "execution_count": 8,
   "id": "876b3aa1-af07-4766-819c-0b99c74ce522",
   "metadata": {},
   "outputs": [
    {
     "data": {
      "text/html": [
       "<div>\n",
       "<style scoped>\n",
       "    .dataframe tbody tr th:only-of-type {\n",
       "        vertical-align: middle;\n",
       "    }\n",
       "\n",
       "    .dataframe tbody tr th {\n",
       "        vertical-align: top;\n",
       "    }\n",
       "\n",
       "    .dataframe thead th {\n",
       "        text-align: right;\n",
       "    }\n",
       "</style>\n",
       "<table border=\"1\" class=\"dataframe\">\n",
       "  <thead>\n",
       "    <tr style=\"text-align: right;\">\n",
       "      <th></th>\n",
       "      <th>S.No</th>\n",
       "      <th>isAlive</th>\n",
       "    </tr>\n",
       "  </thead>\n",
       "  <tbody>\n",
       "  </tbody>\n",
       "</table>\n",
       "</div>"
      ],
      "text/plain": [
       "Empty DataFrame\n",
       "Columns: [S.No, isAlive]\n",
       "Index: []"
      ]
     },
     "execution_count": 8,
     "metadata": {},
     "output_type": "execute_result"
    }
   ],
   "source": [
    "submission[~submission['S.No'].isin(data_test['S.No'])]"
   ]
  },
  {
   "cell_type": "code",
   "execution_count": 9,
   "id": "3973bc62-637b-437e-909c-9f9c5cd96748",
   "metadata": {},
   "outputs": [
    {
     "data": {
      "text/html": [
       "<div>\n",
       "<style scoped>\n",
       "    .dataframe tbody tr th:only-of-type {\n",
       "        vertical-align: middle;\n",
       "    }\n",
       "\n",
       "    .dataframe tbody tr th {\n",
       "        vertical-align: top;\n",
       "    }\n",
       "\n",
       "    .dataframe thead th {\n",
       "        text-align: right;\n",
       "    }\n",
       "</style>\n",
       "<table border=\"1\" class=\"dataframe\">\n",
       "  <thead>\n",
       "    <tr style=\"text-align: right;\">\n",
       "      <th></th>\n",
       "      <th>S.No</th>\n",
       "      <th>name</th>\n",
       "      <th>title</th>\n",
       "      <th>male</th>\n",
       "      <th>culture</th>\n",
       "      <th>dateOfBirth</th>\n",
       "      <th>mother</th>\n",
       "      <th>father</th>\n",
       "      <th>heir</th>\n",
       "      <th>house</th>\n",
       "      <th>...</th>\n",
       "      <th>book5</th>\n",
       "      <th>isAliveMother</th>\n",
       "      <th>isAliveFather</th>\n",
       "      <th>isAliveHeir</th>\n",
       "      <th>isAliveSpouse</th>\n",
       "      <th>isMarried</th>\n",
       "      <th>isNoble</th>\n",
       "      <th>age</th>\n",
       "      <th>numDeadRelations</th>\n",
       "      <th>popularity</th>\n",
       "    </tr>\n",
       "  </thead>\n",
       "  <tbody>\n",
       "  </tbody>\n",
       "</table>\n",
       "<p>0 rows × 25 columns</p>\n",
       "</div>"
      ],
      "text/plain": [
       "Empty DataFrame\n",
       "Columns: [S.No, name, title, male, culture, dateOfBirth, mother, father, heir, house, spouse, book1, book2, book3, book4, book5, isAliveMother, isAliveFather, isAliveHeir, isAliveSpouse, isMarried, isNoble, age, numDeadRelations, popularity]\n",
       "Index: []\n",
       "\n",
       "[0 rows x 25 columns]"
      ]
     },
     "execution_count": 9,
     "metadata": {},
     "output_type": "execute_result"
    }
   ],
   "source": [
    "data_test[~data_test['S.No'].isin(submission['S.No'])]"
   ]
  },
  {
   "cell_type": "code",
   "execution_count": 10,
   "id": "9705975d-cd6a-401a-8bd6-b872c7aba382",
   "metadata": {},
   "outputs": [
    {
     "data": {
      "text/html": [
       "<div>\n",
       "<style scoped>\n",
       "    .dataframe tbody tr th:only-of-type {\n",
       "        vertical-align: middle;\n",
       "    }\n",
       "\n",
       "    .dataframe tbody tr th {\n",
       "        vertical-align: top;\n",
       "    }\n",
       "\n",
       "    .dataframe thead th {\n",
       "        text-align: right;\n",
       "    }\n",
       "</style>\n",
       "<table border=\"1\" class=\"dataframe\">\n",
       "  <thead>\n",
       "    <tr style=\"text-align: right;\">\n",
       "      <th></th>\n",
       "      <th>S.No</th>\n",
       "      <th>name</th>\n",
       "      <th>title</th>\n",
       "      <th>male</th>\n",
       "      <th>culture</th>\n",
       "      <th>dateOfBirth</th>\n",
       "      <th>mother</th>\n",
       "      <th>father</th>\n",
       "      <th>heir</th>\n",
       "      <th>house</th>\n",
       "      <th>...</th>\n",
       "      <th>book5</th>\n",
       "      <th>isAliveMother</th>\n",
       "      <th>isAliveFather</th>\n",
       "      <th>isAliveHeir</th>\n",
       "      <th>isAliveSpouse</th>\n",
       "      <th>isMarried</th>\n",
       "      <th>isNoble</th>\n",
       "      <th>age</th>\n",
       "      <th>numDeadRelations</th>\n",
       "      <th>popularity</th>\n",
       "    </tr>\n",
       "  </thead>\n",
       "  <tbody>\n",
       "  </tbody>\n",
       "</table>\n",
       "<p>0 rows × 25 columns</p>\n",
       "</div>"
      ],
      "text/plain": [
       "Empty DataFrame\n",
       "Columns: [S.No, name, title, male, culture, dateOfBirth, mother, father, heir, house, spouse, book1, book2, book3, book4, book5, isAliveMother, isAliveFather, isAliveHeir, isAliveSpouse, isMarried, isNoble, age, numDeadRelations, popularity]\n",
       "Index: []\n",
       "\n",
       "[0 rows x 25 columns]"
      ]
     },
     "execution_count": 10,
     "metadata": {},
     "output_type": "execute_result"
    }
   ],
   "source": [
    "data_test[data_test['S.No'] == 1]"
   ]
  },
  {
   "cell_type": "markdown",
   "id": "ee1c0a94-c657-42f1-a2f6-35da4262f2f3",
   "metadata": {},
   "source": [
    "#### **Задание 1.3.** Предобработка (очистка) данных."
   ]
  },
  {
   "cell_type": "code",
   "execution_count": 11,
   "id": "27bf58e4-26c3-4c70-b8b2-10c9278f37ac",
   "metadata": {},
   "outputs": [
    {
     "data": {
      "text/plain": [
       "S.No                False\n",
       "name                False\n",
       "title                True\n",
       "male                False\n",
       "culture              True\n",
       "dateOfBirth          True\n",
       "mother               True\n",
       "father               True\n",
       "heir                 True\n",
       "house                True\n",
       "spouse               True\n",
       "book1               False\n",
       "book2               False\n",
       "book3               False\n",
       "book4               False\n",
       "book5               False\n",
       "isAliveMother        True\n",
       "isAliveFather        True\n",
       "isAliveHeir          True\n",
       "isAliveSpouse        True\n",
       "isMarried           False\n",
       "isNoble             False\n",
       "age                  True\n",
       "numDeadRelations    False\n",
       "popularity          False\n",
       "isAlive             False\n",
       "dtype: bool"
      ]
     },
     "execution_count": 11,
     "metadata": {},
     "output_type": "execute_result"
    }
   ],
   "source": [
    "data_train.isna().any()"
   ]
  },
  {
   "cell_type": "code",
   "execution_count": null,
   "id": "24f145e8-b570-48fd-8a97-405ac7df04f8",
   "metadata": {},
   "outputs": [],
   "source": []
  },
  {
   "cell_type": "markdown",
   "id": "09911c7b-ce1d-482c-a555-a00498603761",
   "metadata": {},
   "source": [
    "#### **Задание 1.4.** Числовые признаки"
   ]
  },
  {
   "cell_type": "code",
   "execution_count": 12,
   "id": "c5a5a45f-b74d-4f80-98fc-8ce4ee50503c",
   "metadata": {},
   "outputs": [],
   "source": [
    "y_train = data_train['isAlive'].tolist()\n",
    "data_train.drop(columns='isAlive', inplace=True)"
   ]
  },
  {
   "cell_type": "code",
   "execution_count": 13,
   "id": "dec5946a-8dfc-4218-8526-b335e8fd2b77",
   "metadata": {},
   "outputs": [
    {
     "data": {
      "text/plain": [
       "['S.No',\n",
       " 'male',\n",
       " 'dateOfBirth',\n",
       " 'book1',\n",
       " 'book2',\n",
       " 'book3',\n",
       " 'book4',\n",
       " 'book5',\n",
       " 'isAliveMother',\n",
       " 'isAliveFather',\n",
       " 'isAliveHeir',\n",
       " 'isAliveSpouse',\n",
       " 'isMarried',\n",
       " 'isNoble',\n",
       " 'age',\n",
       " 'numDeadRelations',\n",
       " 'popularity']"
      ]
     },
     "execution_count": 13,
     "metadata": {},
     "output_type": "execute_result"
    }
   ],
   "source": [
    "[column for column in data_train.columns if data_train[column].dtype != 'object']"
   ]
  },
  {
   "cell_type": "markdown",
   "id": "063190e3-769e-44ea-b3ad-28a43a3f2e4c",
   "metadata": {},
   "source": [
    "##### 'S.No'"
   ]
  },
  {
   "cell_type": "code",
   "execution_count": 14,
   "id": "fa61bbde-6aa1-441e-bfa5-0165addeacaa",
   "metadata": {},
   "outputs": [],
   "source": [
    "# data_train.drop(columns='S.No', inplace=True)\n",
    "# data_test.drop(columns='S.No', inplace=True)"
   ]
  },
  {
   "cell_type": "markdown",
   "id": "12c788e6-7111-4220-b09d-e036f3b5f4eb",
   "metadata": {},
   "source": [
    "##### 'dateOfBirth'"
   ]
  },
  {
   "cell_type": "code",
   "execution_count": 15,
   "id": "731d21d0-a2d8-4c50-ab18-9281553408bd",
   "metadata": {},
   "outputs": [],
   "source": [
    "# Заполняем NaN медианой\n",
    "simple_imputer = SimpleImputer(missing_values=np.nan, strategy='median')\n",
    "simple_imputer.fit(data_train[['dateOfBirth']])\n",
    "data_train['dateOfBirth'] = simple_imputer.transform(data_train[['dateOfBirth']])"
   ]
  },
  {
   "cell_type": "code",
   "execution_count": 16,
   "id": "5b4fb148-53ce-4772-af9e-2e0f2494b11e",
   "metadata": {},
   "outputs": [],
   "source": [
    "data_test['dateOfBirth'] = simple_imputer.transform(data_test[['dateOfBirth']])"
   ]
  },
  {
   "cell_type": "code",
   "execution_count": 17,
   "id": "f8aebe83-ca7c-4e13-ae1f-a11455e277f9",
   "metadata": {},
   "outputs": [
    {
     "data": {
      "text/html": [
       "<div>\n",
       "<style scoped>\n",
       "    .dataframe tbody tr th:only-of-type {\n",
       "        vertical-align: middle;\n",
       "    }\n",
       "\n",
       "    .dataframe tbody tr th {\n",
       "        vertical-align: top;\n",
       "    }\n",
       "\n",
       "    .dataframe thead th {\n",
       "        text-align: right;\n",
       "    }\n",
       "</style>\n",
       "<table border=\"1\" class=\"dataframe\">\n",
       "  <thead>\n",
       "    <tr style=\"text-align: right;\">\n",
       "      <th></th>\n",
       "      <th>S.No</th>\n",
       "      <th>name</th>\n",
       "      <th>title</th>\n",
       "      <th>male</th>\n",
       "      <th>culture</th>\n",
       "      <th>dateOfBirth</th>\n",
       "      <th>mother</th>\n",
       "      <th>father</th>\n",
       "      <th>heir</th>\n",
       "      <th>house</th>\n",
       "      <th>...</th>\n",
       "      <th>book5</th>\n",
       "      <th>isAliveMother</th>\n",
       "      <th>isAliveFather</th>\n",
       "      <th>isAliveHeir</th>\n",
       "      <th>isAliveSpouse</th>\n",
       "      <th>isMarried</th>\n",
       "      <th>isNoble</th>\n",
       "      <th>age</th>\n",
       "      <th>numDeadRelations</th>\n",
       "      <th>popularity</th>\n",
       "    </tr>\n",
       "  </thead>\n",
       "  <tbody>\n",
       "  </tbody>\n",
       "</table>\n",
       "<p>0 rows × 25 columns</p>\n",
       "</div>"
      ],
      "text/plain": [
       "Empty DataFrame\n",
       "Columns: [S.No, name, title, male, culture, dateOfBirth, mother, father, heir, house, spouse, book1, book2, book3, book4, book5, isAliveMother, isAliveFather, isAliveHeir, isAliveSpouse, isMarried, isNoble, age, numDeadRelations, popularity]\n",
       "Index: []\n",
       "\n",
       "[0 rows x 25 columns]"
      ]
     },
     "execution_count": 17,
     "metadata": {},
     "output_type": "execute_result"
    }
   ],
   "source": [
    "data_test[data_test['S.No'] == 1]"
   ]
  },
  {
   "cell_type": "markdown",
   "id": "1abc2392-0478-4c7c-ac00-1ae7f27cbbb1",
   "metadata": {},
   "source": [
    "##### 'book1 - 5'"
   ]
  },
  {
   "cell_type": "code",
   "execution_count": 18,
   "id": "1f256a0c-2e38-40f3-804d-fcd317269b9a",
   "metadata": {},
   "outputs": [
    {
     "data": {
      "text/plain": [
       "np.int64(0)"
      ]
     },
     "execution_count": 18,
     "metadata": {},
     "output_type": "execute_result"
    }
   ],
   "source": [
    "data_test['book1'].isna().sum()"
   ]
  },
  {
   "cell_type": "code",
   "execution_count": 19,
   "id": "7b7687be-c2e2-47b1-adab-ec1f32eb12bb",
   "metadata": {},
   "outputs": [
    {
     "data": {
      "text/plain": [
       "np.int64(0)"
      ]
     },
     "execution_count": 19,
     "metadata": {},
     "output_type": "execute_result"
    }
   ],
   "source": [
    "data_test['book2'].isna().sum()"
   ]
  },
  {
   "cell_type": "code",
   "execution_count": 20,
   "id": "5ce50d61-9195-4c0d-9375-82d7a0441ab9",
   "metadata": {},
   "outputs": [
    {
     "data": {
      "text/plain": [
       "np.int64(0)"
      ]
     },
     "execution_count": 20,
     "metadata": {},
     "output_type": "execute_result"
    }
   ],
   "source": [
    "data_test['book3'].isna().sum()"
   ]
  },
  {
   "cell_type": "code",
   "execution_count": 21,
   "id": "bc3f305d-0d0c-4792-9c2f-b28131fa8690",
   "metadata": {},
   "outputs": [
    {
     "data": {
      "text/plain": [
       "np.int64(0)"
      ]
     },
     "execution_count": 21,
     "metadata": {},
     "output_type": "execute_result"
    }
   ],
   "source": [
    "data_test['book4'].isna().sum()"
   ]
  },
  {
   "cell_type": "code",
   "execution_count": 22,
   "id": "20c38881-cf6b-4e34-a52f-5518fa7cc67f",
   "metadata": {},
   "outputs": [
    {
     "data": {
      "text/plain": [
       "np.int64(0)"
      ]
     },
     "execution_count": 22,
     "metadata": {},
     "output_type": "execute_result"
    }
   ],
   "source": [
    "data_test['book5'].isna().sum()"
   ]
  },
  {
   "cell_type": "markdown",
   "id": "1cd33480-d378-4244-a150-08fc8676ea3a",
   "metadata": {},
   "source": [
    "##### isAliveMother"
   ]
  },
  {
   "cell_type": "code",
   "execution_count": 23,
   "id": "9c8bcbef-0152-429d-8275-58450510c09e",
   "metadata": {},
   "outputs": [
    {
     "data": {
      "text/plain": [
       "np.int64(1539)"
      ]
     },
     "execution_count": 23,
     "metadata": {},
     "output_type": "execute_result"
    }
   ],
   "source": [
    "data_train['isAliveMother'].isna().sum()"
   ]
  },
  {
   "cell_type": "code",
   "execution_count": 24,
   "id": "7e428843-0aa7-4e0d-b606-f05f12d3b10b",
   "metadata": {},
   "outputs": [],
   "source": [
    "data_train.drop(columns='isAliveMother', inplace=True)\n",
    "data_test.drop(columns='isAliveMother', inplace=True)"
   ]
  },
  {
   "cell_type": "code",
   "execution_count": null,
   "id": "a70a7fe6-01cf-41d6-9377-f3044c32174f",
   "metadata": {},
   "outputs": [],
   "source": []
  },
  {
   "cell_type": "markdown",
   "id": "e8ed4595-9751-4772-a43e-8d0189775f00",
   "metadata": {},
   "source": [
    "##### isAliveFather"
   ]
  },
  {
   "cell_type": "code",
   "execution_count": 25,
   "id": "8e9c0c34-ba52-42dc-899c-53d34ed6e042",
   "metadata": {},
   "outputs": [
    {
     "data": {
      "text/plain": [
       "np.int64(1535)"
      ]
     },
     "execution_count": 25,
     "metadata": {},
     "output_type": "execute_result"
    }
   ],
   "source": [
    "data_train['isAliveFather'].isna().sum()"
   ]
  },
  {
   "cell_type": "code",
   "execution_count": 26,
   "id": "477406cd-572a-4b14-9a77-6419887ca35a",
   "metadata": {},
   "outputs": [],
   "source": [
    "data_train.drop(columns='isAliveFather', inplace=True)\n",
    "data_test.drop(columns='isAliveFather', inplace=True)"
   ]
  },
  {
   "cell_type": "markdown",
   "id": "fe0e7723-2781-4a16-8864-df3439b9d02d",
   "metadata": {},
   "source": [
    "##### isAliveHeir"
   ]
  },
  {
   "cell_type": "code",
   "execution_count": 27,
   "id": "ed40b3c3-67f5-4f73-bc88-3227b7117584",
   "metadata": {},
   "outputs": [
    {
     "data": {
      "text/plain": [
       "np.int64(1536)"
      ]
     },
     "execution_count": 27,
     "metadata": {},
     "output_type": "execute_result"
    }
   ],
   "source": [
    "data_train['isAliveHeir'].isna().sum()"
   ]
  },
  {
   "cell_type": "code",
   "execution_count": 28,
   "id": "0bbd0283-0b99-4427-91fd-68e03574eaff",
   "metadata": {},
   "outputs": [],
   "source": [
    "data_train.drop(columns='isAliveHeir', inplace=True)\n",
    "data_test.drop(columns='isAliveHeir', inplace=True)"
   ]
  },
  {
   "cell_type": "code",
   "execution_count": null,
   "id": "35716c2a-53fc-44d9-b42e-c016d3dfda28",
   "metadata": {},
   "outputs": [],
   "source": []
  },
  {
   "cell_type": "markdown",
   "id": "b1e98ebc-7976-4f86-a40a-ab2584b17acc",
   "metadata": {},
   "source": [
    "##### isAliveSpouse"
   ]
  },
  {
   "cell_type": "code",
   "execution_count": 29,
   "id": "0258a31a-acbd-42e4-b5cb-5bb9fca78a09",
   "metadata": {},
   "outputs": [
    {
     "data": {
      "text/plain": [
       "(np.int64(1357), 1557)"
      ]
     },
     "execution_count": 29,
     "metadata": {},
     "output_type": "execute_result"
    }
   ],
   "source": [
    "data_train['isAliveSpouse'].isna().sum(), len(data_train)"
   ]
  },
  {
   "cell_type": "code",
   "execution_count": 30,
   "id": "79e01963-6212-4bc6-9409-b4b6f67f3b40",
   "metadata": {},
   "outputs": [],
   "source": [
    "data_train.drop(columns='isAliveSpouse', inplace=True)\n",
    "data_test.drop(columns='isAliveSpouse', inplace=True)"
   ]
  },
  {
   "cell_type": "code",
   "execution_count": null,
   "id": "b9a56f32-a390-4204-a36d-c348719845d4",
   "metadata": {},
   "outputs": [],
   "source": []
  },
  {
   "cell_type": "markdown",
   "id": "40c61dd0-f460-4ffe-a7a0-74b300cf319a",
   "metadata": {},
   "source": [
    "##### isMarried"
   ]
  },
  {
   "cell_type": "code",
   "execution_count": 31,
   "id": "07a3514a-45a7-4bd0-993c-a351de28407c",
   "metadata": {},
   "outputs": [
    {
     "data": {
      "text/plain": [
       "(np.int64(0), 1557)"
      ]
     },
     "execution_count": 31,
     "metadata": {},
     "output_type": "execute_result"
    }
   ],
   "source": [
    "data_train['isMarried'].isna().sum(), len(data_train)"
   ]
  },
  {
   "cell_type": "markdown",
   "id": "8a268769-7531-4ebb-8200-d29269797cef",
   "metadata": {},
   "source": [
    "##### isNoble"
   ]
  },
  {
   "cell_type": "code",
   "execution_count": 32,
   "id": "2296a734-8147-47d2-bac9-3f9904b41e6d",
   "metadata": {},
   "outputs": [
    {
     "data": {
      "text/plain": [
       "(np.int64(0), 1557)"
      ]
     },
     "execution_count": 32,
     "metadata": {},
     "output_type": "execute_result"
    }
   ],
   "source": [
    "data_train['isNoble'].isna().sum(), len(data_train)"
   ]
  },
  {
   "cell_type": "code",
   "execution_count": 33,
   "id": "ee0edec5-4dca-4bac-b378-ab4ccfa808ff",
   "metadata": {},
   "outputs": [
    {
     "data": {
      "text/html": [
       "<div>\n",
       "<style scoped>\n",
       "    .dataframe tbody tr th:only-of-type {\n",
       "        vertical-align: middle;\n",
       "    }\n",
       "\n",
       "    .dataframe tbody tr th {\n",
       "        vertical-align: top;\n",
       "    }\n",
       "\n",
       "    .dataframe thead th {\n",
       "        text-align: right;\n",
       "    }\n",
       "</style>\n",
       "<table border=\"1\" class=\"dataframe\">\n",
       "  <thead>\n",
       "    <tr style=\"text-align: right;\">\n",
       "      <th></th>\n",
       "      <th>S.No</th>\n",
       "      <th>name</th>\n",
       "      <th>title</th>\n",
       "      <th>male</th>\n",
       "      <th>culture</th>\n",
       "      <th>dateOfBirth</th>\n",
       "      <th>mother</th>\n",
       "      <th>father</th>\n",
       "      <th>heir</th>\n",
       "      <th>house</th>\n",
       "      <th>...</th>\n",
       "      <th>book1</th>\n",
       "      <th>book2</th>\n",
       "      <th>book3</th>\n",
       "      <th>book4</th>\n",
       "      <th>book5</th>\n",
       "      <th>isMarried</th>\n",
       "      <th>isNoble</th>\n",
       "      <th>age</th>\n",
       "      <th>numDeadRelations</th>\n",
       "      <th>popularity</th>\n",
       "    </tr>\n",
       "  </thead>\n",
       "  <tbody>\n",
       "  </tbody>\n",
       "</table>\n",
       "<p>0 rows × 21 columns</p>\n",
       "</div>"
      ],
      "text/plain": [
       "Empty DataFrame\n",
       "Columns: [S.No, name, title, male, culture, dateOfBirth, mother, father, heir, house, spouse, book1, book2, book3, book4, book5, isMarried, isNoble, age, numDeadRelations, popularity]\n",
       "Index: []\n",
       "\n",
       "[0 rows x 21 columns]"
      ]
     },
     "execution_count": 33,
     "metadata": {},
     "output_type": "execute_result"
    }
   ],
   "source": [
    "data_test[data_test['S.No'] == 1]"
   ]
  },
  {
   "cell_type": "markdown",
   "id": "1e065fe0-9397-4d88-a72c-413348eab1c6",
   "metadata": {},
   "source": [
    "##### age"
   ]
  },
  {
   "cell_type": "code",
   "execution_count": 34,
   "id": "d13f412f-e23e-49f1-a87e-47b70292bfa9",
   "metadata": {},
   "outputs": [
    {
     "data": {
      "text/plain": [
       "(np.int64(1278), 1557)"
      ]
     },
     "execution_count": 34,
     "metadata": {},
     "output_type": "execute_result"
    }
   ],
   "source": [
    "data_train['age'].isna().sum(), len(data_train)"
   ]
  },
  {
   "cell_type": "code",
   "execution_count": 35,
   "id": "0728cb9b-574c-428c-893d-cdf7701da7e7",
   "metadata": {},
   "outputs": [],
   "source": [
    "# Заполняем NaN медианой\n",
    "simple_imputer_age = SimpleImputer(missing_values=np.nan, strategy='median')\n",
    "simple_imputer_age.fit(data_train[['age']])\n",
    "data_train['age'] = simple_imputer_age.transform(data_train[['age']])"
   ]
  },
  {
   "cell_type": "code",
   "execution_count": 36,
   "id": "29fb2634-5409-40d4-91cc-ff325265a48e",
   "metadata": {},
   "outputs": [],
   "source": [
    "data_test['age'] = simple_imputer_age.transform(data_test[['age']])"
   ]
  },
  {
   "cell_type": "code",
   "execution_count": 37,
   "id": "6f30efd8-bd79-4037-b2d0-18aed797f68e",
   "metadata": {},
   "outputs": [
    {
     "data": {
      "text/html": [
       "<div>\n",
       "<style scoped>\n",
       "    .dataframe tbody tr th:only-of-type {\n",
       "        vertical-align: middle;\n",
       "    }\n",
       "\n",
       "    .dataframe tbody tr th {\n",
       "        vertical-align: top;\n",
       "    }\n",
       "\n",
       "    .dataframe thead th {\n",
       "        text-align: right;\n",
       "    }\n",
       "</style>\n",
       "<table border=\"1\" class=\"dataframe\">\n",
       "  <thead>\n",
       "    <tr style=\"text-align: right;\">\n",
       "      <th></th>\n",
       "      <th>S.No</th>\n",
       "      <th>name</th>\n",
       "      <th>title</th>\n",
       "      <th>male</th>\n",
       "      <th>culture</th>\n",
       "      <th>dateOfBirth</th>\n",
       "      <th>mother</th>\n",
       "      <th>father</th>\n",
       "      <th>heir</th>\n",
       "      <th>house</th>\n",
       "      <th>...</th>\n",
       "      <th>book1</th>\n",
       "      <th>book2</th>\n",
       "      <th>book3</th>\n",
       "      <th>book4</th>\n",
       "      <th>book5</th>\n",
       "      <th>isMarried</th>\n",
       "      <th>isNoble</th>\n",
       "      <th>age</th>\n",
       "      <th>numDeadRelations</th>\n",
       "      <th>popularity</th>\n",
       "    </tr>\n",
       "  </thead>\n",
       "  <tbody>\n",
       "  </tbody>\n",
       "</table>\n",
       "<p>0 rows × 21 columns</p>\n",
       "</div>"
      ],
      "text/plain": [
       "Empty DataFrame\n",
       "Columns: [S.No, name, title, male, culture, dateOfBirth, mother, father, heir, house, spouse, book1, book2, book3, book4, book5, isMarried, isNoble, age, numDeadRelations, popularity]\n",
       "Index: []\n",
       "\n",
       "[0 rows x 21 columns]"
      ]
     },
     "execution_count": 37,
     "metadata": {},
     "output_type": "execute_result"
    }
   ],
   "source": [
    "data_test[data_test['S.No'] == 1]"
   ]
  },
  {
   "cell_type": "markdown",
   "id": "47a5c4eb-4e9b-460f-9c93-5a1b92d0d640",
   "metadata": {},
   "source": [
    "##### numDeadRelations"
   ]
  },
  {
   "cell_type": "code",
   "execution_count": 38,
   "id": "0e016620-3ab9-4887-9b39-49af5dd7d777",
   "metadata": {},
   "outputs": [
    {
     "data": {
      "text/plain": [
       "(np.int64(0), 1557)"
      ]
     },
     "execution_count": 38,
     "metadata": {},
     "output_type": "execute_result"
    }
   ],
   "source": [
    "data_train['numDeadRelations'].isna().sum(), len(data_train)"
   ]
  },
  {
   "cell_type": "code",
   "execution_count": 39,
   "id": "b308a18f-edc6-4794-9c8e-4ce1b4b60b4f",
   "metadata": {},
   "outputs": [
    {
     "data": {
      "text/plain": [
       "numDeadRelations\n",
       "0     1488\n",
       "1       24\n",
       "5       10\n",
       "7        7\n",
       "4        7\n",
       "3        4\n",
       "10       4\n",
       "2        4\n",
       "6        3\n",
       "8        2\n",
       "12       1\n",
       "11       1\n",
       "15       1\n",
       "9        1\n",
       "Name: count, dtype: int64"
      ]
     },
     "execution_count": 39,
     "metadata": {},
     "output_type": "execute_result"
    }
   ],
   "source": [
    "data_train['numDeadRelations'].value_counts()"
   ]
  },
  {
   "cell_type": "code",
   "execution_count": 40,
   "id": "c60ed5e7-4a5f-4f4e-9ab0-0ad8fe028630",
   "metadata": {},
   "outputs": [],
   "source": [
    "data_train.loc[data_train['numDeadRelations'] > 0, 'numDeadRelations'] = 1\n",
    "data_test.loc[data_test['numDeadRelations'] > 0, 'numDeadRelations'] = 1"
   ]
  },
  {
   "cell_type": "code",
   "execution_count": null,
   "id": "e951ba3e-21cb-493e-8780-4e498ca3fa8b",
   "metadata": {},
   "outputs": [],
   "source": []
  },
  {
   "cell_type": "markdown",
   "id": "ee59cd7f-c1b8-45ff-890f-bfbc83f94266",
   "metadata": {},
   "source": [
    "##### popularity"
   ]
  },
  {
   "cell_type": "code",
   "execution_count": 41,
   "id": "5303ec9f-cd71-47e2-994e-b1e5163b69f8",
   "metadata": {},
   "outputs": [
    {
     "data": {
      "text/plain": [
       "(np.int64(0), 1557)"
      ]
     },
     "execution_count": 41,
     "metadata": {},
     "output_type": "execute_result"
    }
   ],
   "source": [
    "data_train['popularity'].isna().sum(), len(data_train)"
   ]
  },
  {
   "cell_type": "code",
   "execution_count": 42,
   "id": "02a5876d-eb83-4355-a86b-2e338bda4d9a",
   "metadata": {},
   "outputs": [
    {
     "data": {
      "image/png": "[encoded data removed]",
      "text/plain": [
       "<Figure size 640x480 with 1 Axes>"
      ]
     },
     "metadata": {},
     "output_type": "display_data"
    }
   ],
   "source": [
    "hist = data_train['popularity'].hist(bins=50)"
   ]
  },
  {
   "cell_type": "code",
   "execution_count": 43,
   "id": "ed85ecff-dc04-43d6-b49c-40af089fd8ca",
   "metadata": {},
   "outputs": [],
   "source": [
    "data_train[\"popularity\"] = data_train[\"popularity\"].apply(lambda x: np.log10(x * 150 + 1))\n",
    "data_test[\"popularity\"] = data_test[\"popularity\"].apply(lambda x: np.log10(x * 150 + 1))"
   ]
  },
  {
   "cell_type": "code",
   "execution_count": 44,
   "id": "426e1ea0-8cae-45ba-affb-b3a63b45e2d2",
   "metadata": {},
   "outputs": [
    {
     "data": {
      "image/png": "[encoded data removed]",
      "text/plain": [
       "<Figure size 640x480 with 1 Axes>"
      ]
     },
     "metadata": {},
     "output_type": "display_data"
    }
   ],
   "source": [
    "hist = data_train['popularity'].hist(bins=50)"
   ]
  },
  {
   "cell_type": "code",
   "execution_count": 45,
   "id": "5b299336-7f3f-450b-99e9-19b1feb7eae4",
   "metadata": {},
   "outputs": [
    {
     "data": {
      "text/html": [
       "<div>\n",
       "<style scoped>\n",
       "    .dataframe tbody tr th:only-of-type {\n",
       "        vertical-align: middle;\n",
       "    }\n",
       "\n",
       "    .dataframe tbody tr th {\n",
       "        vertical-align: top;\n",
       "    }\n",
       "\n",
       "    .dataframe thead th {\n",
       "        text-align: right;\n",
       "    }\n",
       "</style>\n",
       "<table border=\"1\" class=\"dataframe\">\n",
       "  <thead>\n",
       "    <tr style=\"text-align: right;\">\n",
       "      <th></th>\n",
       "      <th>S.No</th>\n",
       "      <th>name</th>\n",
       "      <th>title</th>\n",
       "      <th>male</th>\n",
       "      <th>culture</th>\n",
       "      <th>dateOfBirth</th>\n",
       "      <th>mother</th>\n",
       "      <th>father</th>\n",
       "      <th>heir</th>\n",
       "      <th>house</th>\n",
       "      <th>...</th>\n",
       "      <th>book1</th>\n",
       "      <th>book2</th>\n",
       "      <th>book3</th>\n",
       "      <th>book4</th>\n",
       "      <th>book5</th>\n",
       "      <th>isMarried</th>\n",
       "      <th>isNoble</th>\n",
       "      <th>age</th>\n",
       "      <th>numDeadRelations</th>\n",
       "      <th>popularity</th>\n",
       "    </tr>\n",
       "  </thead>\n",
       "  <tbody>\n",
       "  </tbody>\n",
       "</table>\n",
       "<p>0 rows × 21 columns</p>\n",
       "</div>"
      ],
      "text/plain": [
       "Empty DataFrame\n",
       "Columns: [S.No, name, title, male, culture, dateOfBirth, mother, father, heir, house, spouse, book1, book2, book3, book4, book5, isMarried, isNoble, age, numDeadRelations, popularity]\n",
       "Index: []\n",
       "\n",
       "[0 rows x 21 columns]"
      ]
     },
     "execution_count": 45,
     "metadata": {},
     "output_type": "execute_result"
    }
   ],
   "source": [
    "data_test[data_test['S.No'] == 1]"
   ]
  },
  {
   "cell_type": "markdown",
   "id": "8577a6ea-ced5-400b-bebe-df06657bbd48",
   "metadata": {},
   "source": [
    "#### **Задание 1.5.** Категориальные признаки с большим количеством категорий"
   ]
  },
  {
   "cell_type": "code",
   "execution_count": 46,
   "id": "1f71fd75-d961-4a66-b375-d6cf72a8a353",
   "metadata": {},
   "outputs": [
    {
     "data": {
      "text/plain": [
       "['name', 'title', 'culture', 'mother', 'father', 'heir', 'house', 'spouse']"
      ]
     },
     "execution_count": 46,
     "metadata": {},
     "output_type": "execute_result"
    }
   ],
   "source": [
    "[column for column in data_train.columns if data_train[column].dtype == 'object']"
   ]
  },
  {
   "cell_type": "markdown",
   "id": "cec275cf-5f73-4f36-8313-90143218bfea",
   "metadata": {},
   "source": [
    "##### name"
   ]
  },
  {
   "cell_type": "code",
   "execution_count": 47,
   "id": "20da963d-833b-44fc-aa78-8a142a024393",
   "metadata": {},
   "outputs": [
    {
     "data": {
      "text/plain": [
       "np.int64(0)"
      ]
     },
     "execution_count": 47,
     "metadata": {},
     "output_type": "execute_result"
    }
   ],
   "source": [
    "data_train.name.isna().sum()"
   ]
  },
  {
   "cell_type": "code",
   "execution_count": 48,
   "id": "ad621b3d-a7a3-419a-81ac-4ab48384d290",
   "metadata": {},
   "outputs": [
    {
     "data": {
      "text/plain": [
       "1557"
      ]
     },
     "execution_count": 48,
     "metadata": {},
     "output_type": "execute_result"
    }
   ],
   "source": [
    "len(data_train.name.unique())"
   ]
  },
  {
   "cell_type": "code",
   "execution_count": 49,
   "id": "74451cd1-c1f3-4bbc-ad22-609bba046544",
   "metadata": {},
   "outputs": [],
   "source": [
    "data_train.drop(columns='name', inplace=True)\n",
    "data_test.drop(columns='name', inplace=True)"
   ]
  },
  {
   "cell_type": "code",
   "execution_count": null,
   "id": "ac658d8a-fd4e-4f81-b4ee-42e73deb45c8",
   "metadata": {},
   "outputs": [],
   "source": []
  },
  {
   "cell_type": "markdown",
   "id": "ce904916-f5c2-44da-80d9-7727d907f863",
   "metadata": {},
   "source": [
    "##### mother"
   ]
  },
  {
   "cell_type": "code",
   "execution_count": 50,
   "id": "2525c421-0f79-4e64-9020-6129c0460be6",
   "metadata": {},
   "outputs": [
    {
     "data": {
      "text/plain": [
       "(np.int64(1539), 1557)"
      ]
     },
     "execution_count": 50,
     "metadata": {},
     "output_type": "execute_result"
    }
   ],
   "source": [
    "data_train.mother.isna().sum(), len(data_train)"
   ]
  },
  {
   "cell_type": "code",
   "execution_count": 51,
   "id": "eb94d38f-26bf-4ef7-a365-0015ed09689f",
   "metadata": {},
   "outputs": [],
   "source": [
    "data_train.drop(columns='mother', inplace=True)\n",
    "data_test.drop(columns='mother', inplace=True)"
   ]
  },
  {
   "cell_type": "code",
   "execution_count": null,
   "id": "192b7bda-d7fc-412b-9d6d-84226626ebb1",
   "metadata": {},
   "outputs": [],
   "source": []
  },
  {
   "cell_type": "markdown",
   "id": "44faf925-f335-49fb-b424-80020c224c00",
   "metadata": {},
   "source": [
    "##### father"
   ]
  },
  {
   "cell_type": "code",
   "execution_count": 52,
   "id": "e64b9a5e-db86-4bf9-8501-a59f5f757cfb",
   "metadata": {},
   "outputs": [
    {
     "data": {
      "text/plain": [
       "(np.int64(1535), 1557)"
      ]
     },
     "execution_count": 52,
     "metadata": {},
     "output_type": "execute_result"
    }
   ],
   "source": [
    "data_train.father.isna().sum(), len(data_train)"
   ]
  },
  {
   "cell_type": "code",
   "execution_count": 53,
   "id": "6e77f5ad-4ab7-4f56-8190-43d219d88970",
   "metadata": {},
   "outputs": [],
   "source": [
    "data_train.drop(columns='father', inplace=True)\n",
    "data_test.drop(columns='father', inplace=True)"
   ]
  },
  {
   "cell_type": "code",
   "execution_count": null,
   "id": "31b90f55-5d32-45db-a11f-4f19803c860f",
   "metadata": {},
   "outputs": [],
   "source": []
  },
  {
   "cell_type": "markdown",
   "id": "6421b645-c073-4bcf-a1ad-5089ca95ac1a",
   "metadata": {},
   "source": [
    "##### spouse"
   ]
  },
  {
   "cell_type": "code",
   "execution_count": 54,
   "id": "6bcd14e9-834b-49e8-8cba-1cc94b9ef009",
   "metadata": {},
   "outputs": [
    {
     "data": {
      "text/plain": [
       "(np.int64(1357), 1557)"
      ]
     },
     "execution_count": 54,
     "metadata": {},
     "output_type": "execute_result"
    }
   ],
   "source": [
    "data_train.spouse.isna().sum(), len(data_train)"
   ]
  },
  {
   "cell_type": "code",
   "execution_count": 55,
   "id": "a3f088b4-6974-4c1c-8ead-5d4d280010a7",
   "metadata": {},
   "outputs": [],
   "source": [
    "data_train.drop(columns='spouse', inplace=True)\n",
    "data_test.drop(columns='spouse', inplace=True)"
   ]
  },
  {
   "cell_type": "code",
   "execution_count": null,
   "id": "375a6045-287f-435e-860b-c719c56c1bce",
   "metadata": {},
   "outputs": [],
   "source": []
  },
  {
   "cell_type": "markdown",
   "id": "35bbeb3a-316d-453c-9801-4fd7a13c4865",
   "metadata": {},
   "source": [
    "##### heir"
   ]
  },
  {
   "cell_type": "code",
   "execution_count": 56,
   "id": "4b99e3d3-d575-4e91-9293-b26d1d7d1188",
   "metadata": {},
   "outputs": [
    {
     "data": {
      "text/plain": [
       "(np.int64(1536), 1557)"
      ]
     },
     "execution_count": 56,
     "metadata": {},
     "output_type": "execute_result"
    }
   ],
   "source": [
    "data_train.heir.isna().sum(), len(data_train)"
   ]
  },
  {
   "cell_type": "code",
   "execution_count": 57,
   "id": "a667da93-6f9e-404a-9f3a-db349adb4c8e",
   "metadata": {},
   "outputs": [],
   "source": [
    "data_train.drop(columns='heir', inplace=True)\n",
    "data_test.drop(columns='heir', inplace=True)"
   ]
  },
  {
   "cell_type": "code",
   "execution_count": null,
   "id": "45a910ac-4a6f-4d9b-a8ba-612c9e283f05",
   "metadata": {},
   "outputs": [],
   "source": []
  },
  {
   "cell_type": "code",
   "execution_count": 58,
   "id": "ca75bc6c-dd6d-443d-ac64-cccb31daef7e",
   "metadata": {},
   "outputs": [
    {
     "data": {
      "text/plain": [
       "(np.int64(840), 1557)"
      ]
     },
     "execution_count": 58,
     "metadata": {},
     "output_type": "execute_result"
    }
   ],
   "source": [
    "data_train.title.isna().sum(), len(data_train)"
   ]
  },
  {
   "cell_type": "code",
   "execution_count": null,
   "id": "41c4e1be-03bd-442f-a07a-96bf5c089584",
   "metadata": {},
   "outputs": [],
   "source": []
  },
  {
   "cell_type": "markdown",
   "id": "e4f28650-04e8-45f5-9d22-cce4ac5b37f9",
   "metadata": {},
   "source": [
    "##### culture"
   ]
  },
  {
   "cell_type": "code",
   "execution_count": 59,
   "id": "3cdcf2ff-3840-4836-a4fc-e0bbaf7ec87b",
   "metadata": {},
   "outputs": [
    {
     "data": {
      "text/plain": [
       "(np.int64(1069), 1557)"
      ]
     },
     "execution_count": 59,
     "metadata": {},
     "output_type": "execute_result"
    }
   ],
   "source": [
    "data_train.culture.isna().sum(), len(data_train)"
   ]
  },
  {
   "cell_type": "code",
   "execution_count": 60,
   "id": "668d443c-cf71-4d67-bc83-971b12ff8b36",
   "metadata": {},
   "outputs": [],
   "source": [
    "data_train.drop(columns='culture', inplace=True)\n",
    "data_test.drop(columns='culture', inplace=True)"
   ]
  },
  {
   "cell_type": "markdown",
   "id": "542c60d7-98a3-42ce-94e1-b2dfbeb780f6",
   "metadata": {},
   "source": [
    "##### house"
   ]
  },
  {
   "cell_type": "code",
   "execution_count": 61,
   "id": "6cc6d125-c3df-472b-a558-34bb36b0e547",
   "metadata": {},
   "outputs": [
    {
     "data": {
      "text/plain": [
       "(np.int64(381), 1557)"
      ]
     },
     "execution_count": 61,
     "metadata": {},
     "output_type": "execute_result"
    }
   ],
   "source": [
    "data_train.house.isna().sum(), len(data_train)"
   ]
  },
  {
   "cell_type": "code",
   "execution_count": 62,
   "id": "69aff35b-52b1-4015-8ecd-5200495d601c",
   "metadata": {},
   "outputs": [],
   "source": [
    "data_train.loc[data_train['house'] == 1, 'house'] = \"1\"\n",
    "data_test.loc[data_test['house'] == 1, 'house'] = \"1\""
   ]
  },
  {
   "cell_type": "code",
   "execution_count": 63,
   "id": "279922bc-973d-4819-acd7-e2653edbd8db",
   "metadata": {},
   "outputs": [],
   "source": [
    "house_columns = data_train.house.value_counts().reset_index()['house'].tolist()[0:5]"
   ]
  },
  {
   "cell_type": "code",
   "execution_count": 64,
   "id": "49a64eaf-5f61-4dc7-9120-1a10e425baa0",
   "metadata": {},
   "outputs": [],
   "source": [
    "data_train.loc[~data_train['house'].isin(house_columns), 'house'] = 'house_other'\n",
    "data_test.loc[~data_test['house'].isin(house_columns), 'house'] = 'house_other'"
   ]
  },
  {
   "cell_type": "code",
   "execution_count": 65,
   "id": "e099e9da-1779-4052-86f0-967bf0c4d80e",
   "metadata": {},
   "outputs": [
    {
     "data": {
      "text/plain": [
       "house\n",
       "house_other        1248\n",
       "House Frey           89\n",
       "Night's Watch        88\n",
       "House Stark          56\n",
       "House Targaryen      40\n",
       "House Lannister      36\n",
       "Name: count, dtype: int64"
      ]
     },
     "execution_count": 65,
     "metadata": {},
     "output_type": "execute_result"
    }
   ],
   "source": [
    "data_train.house.value_counts()"
   ]
  },
  {
   "cell_type": "code",
   "execution_count": null,
   "id": "7247e8aa-c0ca-417e-881c-782ecaa218dd",
   "metadata": {},
   "outputs": [],
   "source": []
  },
  {
   "cell_type": "markdown",
   "id": "e70c9776-0c1a-404a-8154-c826cb2207eb",
   "metadata": {},
   "source": [
    "##### title"
   ]
  },
  {
   "cell_type": "code",
   "execution_count": 66,
   "id": "3edf2e2e-aff5-4c42-9acb-f606597765aa",
   "metadata": {},
   "outputs": [],
   "source": [
    "data_train.loc[data_train['title'].isna(), 'title'] = 'not_title'\n",
    "data_test.loc[data_test['title'].isna(), 'title'] = 'not_title'"
   ]
  },
  {
   "cell_type": "code",
   "execution_count": 67,
   "id": "17665db0-d1f9-477b-bc1e-73ba43160873",
   "metadata": {},
   "outputs": [],
   "source": [
    "data_train.loc[data_train['title'] == 1, 'title'] = '1'\n",
    "data_test.loc[data_test['title'] == 1, 'title'] = '1'"
   ]
  },
  {
   "cell_type": "code",
   "execution_count": 68,
   "id": "3c1fbc2d-1c08-4d52-80a3-c89affae2d39",
   "metadata": {},
   "outputs": [],
   "source": [
    "data_train['title'] = data_train['title'].apply(lambda x: x.lower())\n",
    "data_test['title'] = data_test['title'].apply(lambda x: x.lower())"
   ]
  },
  {
   "cell_type": "code",
   "execution_count": 69,
   "id": "ce9b6d27-fe6f-4d8d-8467-6c106335ea93",
   "metadata": {},
   "outputs": [
    {
     "data": {
      "text/plain": [
       "title\n",
       "not_title                              840\n",
       "ser                                    306\n",
       "maester                                 29\n",
       "archmaester                             21\n",
       "lord                                    19\n",
       "septon                                  16\n",
       "winterfell                              15\n",
       "lady                                    10\n",
       "septa                                    9\n",
       "princess                                 9\n",
       "king in the north                        9\n",
       "cupbearer                                8\n",
       "lord commander of the night's watch      8\n",
       "prince                                   7\n",
       "grand maester                            6\n",
       "wisdom                                   5\n",
       "khal                                     5\n",
       "king-beyond-the-wall                     4\n",
       "prince of dragonstone                    4\n",
       "eyrie                                    3\n",
       "Name: count, dtype: int64"
      ]
     },
     "execution_count": 69,
     "metadata": {},
     "output_type": "execute_result"
    }
   ],
   "source": [
    "data_train.title.value_counts()[0:20]"
   ]
  },
  {
   "cell_type": "code",
   "execution_count": 70,
   "id": "199f110d-93c6-4ce4-a6ac-e738cd0337f4",
   "metadata": {},
   "outputs": [],
   "source": [
    "data_train.loc[data_train['title'].str.contains('ser '), 'title'] = 'ser'\n",
    "data_test.loc[data_test['title'].str.contains('ser '), 'title'] = 'ser'"
   ]
  },
  {
   "cell_type": "code",
   "execution_count": 71,
   "id": "6a66b918-33c7-4beb-9732-037e71ed464f",
   "metadata": {},
   "outputs": [],
   "source": [
    "data_train.loc[data_train['title'].str.contains('maester'), 'title'] = 'maester'\n",
    "data_test.loc[data_test['title'].str.contains('maester'), 'title'] = 'maester'"
   ]
  },
  {
   "cell_type": "code",
   "execution_count": 72,
   "id": "31b9288f-7260-4857-add8-f9fcdbf17e7d",
   "metadata": {},
   "outputs": [],
   "source": [
    "data_train.loc[data_train['title'].str.contains('lord '), 'title'] = 'lord'\n",
    "data_test.loc[data_test['title'].str.contains('lord '), 'title'] = 'lord'"
   ]
  },
  {
   "cell_type": "code",
   "execution_count": 73,
   "id": "7cf860c4-fbf7-4208-b9a6-7f90e1499ae0",
   "metadata": {},
   "outputs": [],
   "source": [
    "data_train.loc[data_train['title'].str.contains('septa'), 'title'] = 'septon'\n",
    "data_test.loc[data_test['title'].str.contains('septa'), 'title'] = 'septon'"
   ]
  },
  {
   "cell_type": "code",
   "execution_count": 74,
   "id": "c7910360-1e89-4a06-a80d-37655cf8ecc8",
   "metadata": {},
   "outputs": [],
   "source": [
    "data_train.loc[data_train['title'].str.contains('lady '), 'title'] = 'lady'\n",
    "data_test.loc[data_test['title'].str.contains('lady '), 'title'] = 'lady'"
   ]
  },
  {
   "cell_type": "code",
   "execution_count": 75,
   "id": "557527e4-87b3-4873-b851-f839a6782dfd",
   "metadata": {},
   "outputs": [],
   "source": [
    "data_train.loc[data_train['title'].str.contains('king'), 'title'] = 'king'\n",
    "data_test.loc[data_test['title'].str.contains('king'), 'title'] = 'king'"
   ]
  },
  {
   "cell_type": "code",
   "execution_count": 76,
   "id": "cdf08a7a-0947-4b2e-8019-c0269f3362ce",
   "metadata": {},
   "outputs": [],
   "source": [
    "title_columns = data_train.title.value_counts().reset_index()['title'].tolist()[0:9]"
   ]
  },
  {
   "cell_type": "code",
   "execution_count": 77,
   "id": "5cf85b11-c597-43b2-aed6-f61a734962d1",
   "metadata": {},
   "outputs": [],
   "source": [
    "data_train.loc[~data_train['title'].isin(title_columns), 'title'] = 'title_other'\n",
    "data_test.loc[~data_test['title'].isin(title_columns), 'title'] = 'title_other'"
   ]
  },
  {
   "cell_type": "code",
   "execution_count": null,
   "id": "fcd0d63d-bd0c-4a9e-a677-d3ef3120b8b2",
   "metadata": {},
   "outputs": [],
   "source": []
  },
  {
   "cell_type": "code",
   "execution_count": 78,
   "id": "6aef0daa-779c-407c-9b2f-906ec22e6def",
   "metadata": {},
   "outputs": [
    {
     "data": {
      "text/html": [
       "<div>\n",
       "<style scoped>\n",
       "    .dataframe tbody tr th:only-of-type {\n",
       "        vertical-align: middle;\n",
       "    }\n",
       "\n",
       "    .dataframe tbody tr th {\n",
       "        vertical-align: top;\n",
       "    }\n",
       "\n",
       "    .dataframe thead th {\n",
       "        text-align: right;\n",
       "    }\n",
       "</style>\n",
       "<table border=\"1\" class=\"dataframe\">\n",
       "  <thead>\n",
       "    <tr style=\"text-align: right;\">\n",
       "      <th></th>\n",
       "      <th>S.No</th>\n",
       "      <th>male</th>\n",
       "      <th>dateOfBirth</th>\n",
       "      <th>book1</th>\n",
       "      <th>book2</th>\n",
       "      <th>book3</th>\n",
       "      <th>book4</th>\n",
       "      <th>book5</th>\n",
       "      <th>isMarried</th>\n",
       "      <th>isNoble</th>\n",
       "      <th>age</th>\n",
       "      <th>numDeadRelations</th>\n",
       "      <th>popularity</th>\n",
       "    </tr>\n",
       "  </thead>\n",
       "  <tbody>\n",
       "    <tr>\n",
       "      <th>count</th>\n",
       "      <td>1557.000000</td>\n",
       "      <td>1557.000000</td>\n",
       "      <td>1557.000000</td>\n",
       "      <td>1557.000000</td>\n",
       "      <td>1557.000000</td>\n",
       "      <td>1557.000000</td>\n",
       "      <td>1557.000000</td>\n",
       "      <td>1557.000000</td>\n",
       "      <td>1557.000000</td>\n",
       "      <td>1557.000000</td>\n",
       "      <td>1557.000000</td>\n",
       "      <td>1557.000000</td>\n",
       "      <td>1557.000000</td>\n",
       "    </tr>\n",
       "    <tr>\n",
       "      <th>mean</th>\n",
       "      <td>779.000000</td>\n",
       "      <td>0.590880</td>\n",
       "      <td>267.619139</td>\n",
       "      <td>0.138728</td>\n",
       "      <td>0.327553</td>\n",
       "      <td>0.431599</td>\n",
       "      <td>0.562620</td>\n",
       "      <td>0.330122</td>\n",
       "      <td>0.128452</td>\n",
       "      <td>0.439306</td>\n",
       "      <td>26.023121</td>\n",
       "      <td>0.044316</td>\n",
       "      <td>0.743786</td>\n",
       "    </tr>\n",
       "    <tr>\n",
       "      <th>std</th>\n",
       "      <td>449.611499</td>\n",
       "      <td>0.491829</td>\n",
       "      <td>27.655486</td>\n",
       "      <td>0.345774</td>\n",
       "      <td>0.469472</td>\n",
       "      <td>0.495458</td>\n",
       "      <td>0.496223</td>\n",
       "      <td>0.470408</td>\n",
       "      <td>0.334700</td>\n",
       "      <td>0.496462</td>\n",
       "      <td>11.956196</td>\n",
       "      <td>0.205862</td>\n",
       "      <td>0.440115</td>\n",
       "    </tr>\n",
       "    <tr>\n",
       "      <th>min</th>\n",
       "      <td>1.000000</td>\n",
       "      <td>0.000000</td>\n",
       "      <td>-25.000000</td>\n",
       "      <td>0.000000</td>\n",
       "      <td>0.000000</td>\n",
       "      <td>0.000000</td>\n",
       "      <td>0.000000</td>\n",
       "      <td>0.000000</td>\n",
       "      <td>0.000000</td>\n",
       "      <td>0.000000</td>\n",
       "      <td>0.000000</td>\n",
       "      <td>0.000000</td>\n",
       "      <td>0.000000</td>\n",
       "    </tr>\n",
       "    <tr>\n",
       "      <th>25%</th>\n",
       "      <td>390.000000</td>\n",
       "      <td>0.000000</td>\n",
       "      <td>272.000000</td>\n",
       "      <td>0.000000</td>\n",
       "      <td>0.000000</td>\n",
       "      <td>0.000000</td>\n",
       "      <td>0.000000</td>\n",
       "      <td>0.000000</td>\n",
       "      <td>0.000000</td>\n",
       "      <td>0.000000</td>\n",
       "      <td>24.000000</td>\n",
       "      <td>0.000000</td>\n",
       "      <td>0.478089</td>\n",
       "    </tr>\n",
       "    <tr>\n",
       "      <th>50%</th>\n",
       "      <td>779.000000</td>\n",
       "      <td>1.000000</td>\n",
       "      <td>272.000000</td>\n",
       "      <td>0.000000</td>\n",
       "      <td>0.000000</td>\n",
       "      <td>0.000000</td>\n",
       "      <td>1.000000</td>\n",
       "      <td>0.000000</td>\n",
       "      <td>0.000000</td>\n",
       "      <td>0.000000</td>\n",
       "      <td>24.000000</td>\n",
       "      <td>0.000000</td>\n",
       "      <td>0.654341</td>\n",
       "    </tr>\n",
       "    <tr>\n",
       "      <th>75%</th>\n",
       "      <td>1168.000000</td>\n",
       "      <td>1.000000</td>\n",
       "      <td>272.000000</td>\n",
       "      <td>0.000000</td>\n",
       "      <td>1.000000</td>\n",
       "      <td>1.000000</td>\n",
       "      <td>1.000000</td>\n",
       "      <td>1.000000</td>\n",
       "      <td>0.000000</td>\n",
       "      <td>1.000000</td>\n",
       "      <td>24.000000</td>\n",
       "      <td>0.000000</td>\n",
       "      <td>1.022501</td>\n",
       "    </tr>\n",
       "    <tr>\n",
       "      <th>max</th>\n",
       "      <td>1557.000000</td>\n",
       "      <td>1.000000</td>\n",
       "      <td>299.000000</td>\n",
       "      <td>1.000000</td>\n",
       "      <td>1.000000</td>\n",
       "      <td>1.000000</td>\n",
       "      <td>1.000000</td>\n",
       "      <td>1.000000</td>\n",
       "      <td>1.000000</td>\n",
       "      <td>1.000000</td>\n",
       "      <td>100.000000</td>\n",
       "      <td>1.000000</td>\n",
       "      <td>2.178977</td>\n",
       "    </tr>\n",
       "  </tbody>\n",
       "</table>\n",
       "</div>"
      ],
      "text/plain": [
       "              S.No         male  dateOfBirth        book1        book2  \\\n",
       "count  1557.000000  1557.000000  1557.000000  1557.000000  1557.000000   \n",
       "mean    779.000000     0.590880   267.619139     0.138728     0.327553   \n",
       "std     449.611499     0.491829    27.655486     0.345774     0.469472   \n",
       "min       1.000000     0.000000   -25.000000     0.000000     0.000000   \n",
       "25%     390.000000     0.000000   272.000000     0.000000     0.000000   \n",
       "50%     779.000000     1.000000   272.000000     0.000000     0.000000   \n",
       "75%    1168.000000     1.000000   272.000000     0.000000     1.000000   \n",
       "max    1557.000000     1.000000   299.000000     1.000000     1.000000   \n",
       "\n",
       "             book3        book4        book5    isMarried      isNoble  \\\n",
       "count  1557.000000  1557.000000  1557.000000  1557.000000  1557.000000   \n",
       "mean      0.431599     0.562620     0.330122     0.128452     0.439306   \n",
       "std       0.495458     0.496223     0.470408     0.334700     0.496462   \n",
       "min       0.000000     0.000000     0.000000     0.000000     0.000000   \n",
       "25%       0.000000     0.000000     0.000000     0.000000     0.000000   \n",
       "50%       0.000000     1.000000     0.000000     0.000000     0.000000   \n",
       "75%       1.000000     1.000000     1.000000     0.000000     1.000000   \n",
       "max       1.000000     1.000000     1.000000     1.000000     1.000000   \n",
       "\n",
       "               age  numDeadRelations   popularity  \n",
       "count  1557.000000       1557.000000  1557.000000  \n",
       "mean     26.023121          0.044316     0.743786  \n",
       "std      11.956196          0.205862     0.440115  \n",
       "min       0.000000          0.000000     0.000000  \n",
       "25%      24.000000          0.000000     0.478089  \n",
       "50%      24.000000          0.000000     0.654341  \n",
       "75%      24.000000          0.000000     1.022501  \n",
       "max     100.000000          1.000000     2.178977  "
      ]
     },
     "execution_count": 78,
     "metadata": {},
     "output_type": "execute_result"
    }
   ],
   "source": [
    "data_train.describe()"
   ]
  },
  {
   "cell_type": "code",
   "execution_count": 79,
   "id": "20004701-18f7-4304-9388-b704e00c5864",
   "metadata": {},
   "outputs": [
    {
     "name": "stdout",
     "output_type": "stream",
     "text": [
      "<class 'pandas.core.frame.DataFrame'>\n",
      "RangeIndex: 1557 entries, 0 to 1556\n",
      "Data columns (total 15 columns):\n",
      " #   Column            Non-Null Count  Dtype  \n",
      "---  ------            --------------  -----  \n",
      " 0   S.No              1557 non-null   int64  \n",
      " 1   title             1557 non-null   object \n",
      " 2   male              1557 non-null   int64  \n",
      " 3   dateOfBirth       1557 non-null   float64\n",
      " 4   house             1557 non-null   object \n",
      " 5   book1             1557 non-null   int64  \n",
      " 6   book2             1557 non-null   int64  \n",
      " 7   book3             1557 non-null   int64  \n",
      " 8   book4             1557 non-null   int64  \n",
      " 9   book5             1557 non-null   int64  \n",
      " 10  isMarried         1557 non-null   int64  \n",
      " 11  isNoble           1557 non-null   int64  \n",
      " 12  age               1557 non-null   float64\n",
      " 13  numDeadRelations  1557 non-null   int64  \n",
      " 14  popularity        1557 non-null   float64\n",
      "dtypes: float64(3), int64(10), object(2)\n",
      "memory usage: 182.6+ KB\n"
     ]
    }
   ],
   "source": [
    "data_train.info()"
   ]
  },
  {
   "cell_type": "code",
   "execution_count": null,
   "id": "759e4556-9ddb-4b23-a358-fe1196a4ed97",
   "metadata": {},
   "outputs": [],
   "source": []
  },
  {
   "cell_type": "code",
   "execution_count": 80,
   "id": "661e613a-eeb4-4a33-9d00-5928ce00ad18",
   "metadata": {},
   "outputs": [],
   "source": [
    "categorical_columns = ['title', 'house']"
   ]
  },
  {
   "cell_type": "code",
   "execution_count": 81,
   "id": "8f2ce76b-9d15-46f8-9ccc-bf3b300564da",
   "metadata": {},
   "outputs": [],
   "source": [
    "ohe = OneHotEncoder(drop='if_binary', sparse_output=False)\n",
    "ohe.fit(data_train[categorical_columns])\n",
    "new_category_columns = ohe.transform(data_train[categorical_columns])"
   ]
  },
  {
   "cell_type": "code",
   "execution_count": 82,
   "id": "bd317fd7-e586-4b30-ae0d-cf591916dc2e",
   "metadata": {},
   "outputs": [
    {
     "data": {
      "text/plain": [
       "array(['title_king', 'title_lady', 'title_lord', 'title_maester',\n",
       "       'title_not_title', 'title_princess', 'title_septon', 'title_ser',\n",
       "       'title_title_other', 'title_winterfell', 'house_House Frey',\n",
       "       'house_House Lannister', 'house_House Stark',\n",
       "       'house_House Targaryen', \"house_Night's Watch\",\n",
       "       'house_house_other'], dtype=object)"
      ]
     },
     "execution_count": 82,
     "metadata": {},
     "output_type": "execute_result"
    }
   ],
   "source": [
    "ohe.get_feature_names_out()"
   ]
  },
  {
   "cell_type": "code",
   "execution_count": null,
   "id": "e067e8dc-c50c-4b82-b162-05c042cc4f16",
   "metadata": {},
   "outputs": [],
   "source": []
  },
  {
   "cell_type": "code",
   "execution_count": 83,
   "id": "5f24ac6f-a0f8-4702-80c9-ae50ff1dabf8",
   "metadata": {},
   "outputs": [
    {
     "data": {
      "text/html": [
       "<div>\n",
       "<style scoped>\n",
       "    .dataframe tbody tr th:only-of-type {\n",
       "        vertical-align: middle;\n",
       "    }\n",
       "\n",
       "    .dataframe tbody tr th {\n",
       "        vertical-align: top;\n",
       "    }\n",
       "\n",
       "    .dataframe thead th {\n",
       "        text-align: right;\n",
       "    }\n",
       "</style>\n",
       "<table border=\"1\" class=\"dataframe\">\n",
       "  <thead>\n",
       "    <tr style=\"text-align: right;\">\n",
       "      <th></th>\n",
       "      <th>S.No</th>\n",
       "      <th>male</th>\n",
       "      <th>dateOfBirth</th>\n",
       "      <th>book1</th>\n",
       "      <th>book2</th>\n",
       "      <th>book3</th>\n",
       "      <th>book4</th>\n",
       "      <th>book5</th>\n",
       "      <th>isMarried</th>\n",
       "      <th>isNoble</th>\n",
       "      <th>...</th>\n",
       "      <th>title_septon</th>\n",
       "      <th>title_ser</th>\n",
       "      <th>title_title_other</th>\n",
       "      <th>title_winterfell</th>\n",
       "      <th>house_House Frey</th>\n",
       "      <th>house_House Lannister</th>\n",
       "      <th>house_House Stark</th>\n",
       "      <th>house_House Targaryen</th>\n",
       "      <th>house_Night's Watch</th>\n",
       "      <th>house_house_other</th>\n",
       "    </tr>\n",
       "  </thead>\n",
       "  <tbody>\n",
       "    <tr>\n",
       "      <th>0</th>\n",
       "      <td>1</td>\n",
       "      <td>1</td>\n",
       "      <td>272.0</td>\n",
       "      <td>0</td>\n",
       "      <td>0</td>\n",
       "      <td>0</td>\n",
       "      <td>0</td>\n",
       "      <td>0</td>\n",
       "      <td>0</td>\n",
       "      <td>0</td>\n",
       "      <td>...</td>\n",
       "      <td>0.0</td>\n",
       "      <td>0.0</td>\n",
       "      <td>0.0</td>\n",
       "      <td>0.0</td>\n",
       "      <td>0.0</td>\n",
       "      <td>0.0</td>\n",
       "      <td>0.0</td>\n",
       "      <td>0.0</td>\n",
       "      <td>0.0</td>\n",
       "      <td>1.0</td>\n",
       "    </tr>\n",
       "    <tr>\n",
       "      <th>1</th>\n",
       "      <td>2</td>\n",
       "      <td>1</td>\n",
       "      <td>208.0</td>\n",
       "      <td>1</td>\n",
       "      <td>1</td>\n",
       "      <td>1</td>\n",
       "      <td>1</td>\n",
       "      <td>1</td>\n",
       "      <td>1</td>\n",
       "      <td>1</td>\n",
       "      <td>...</td>\n",
       "      <td>0.0</td>\n",
       "      <td>0.0</td>\n",
       "      <td>0.0</td>\n",
       "      <td>0.0</td>\n",
       "      <td>1.0</td>\n",
       "      <td>0.0</td>\n",
       "      <td>0.0</td>\n",
       "      <td>0.0</td>\n",
       "      <td>0.0</td>\n",
       "      <td>0.0</td>\n",
       "    </tr>\n",
       "    <tr>\n",
       "      <th>2</th>\n",
       "      <td>3</td>\n",
       "      <td>1</td>\n",
       "      <td>272.0</td>\n",
       "      <td>0</td>\n",
       "      <td>0</td>\n",
       "      <td>0</td>\n",
       "      <td>1</td>\n",
       "      <td>0</td>\n",
       "      <td>0</td>\n",
       "      <td>1</td>\n",
       "      <td>...</td>\n",
       "      <td>0.0</td>\n",
       "      <td>1.0</td>\n",
       "      <td>0.0</td>\n",
       "      <td>0.0</td>\n",
       "      <td>0.0</td>\n",
       "      <td>0.0</td>\n",
       "      <td>0.0</td>\n",
       "      <td>0.0</td>\n",
       "      <td>0.0</td>\n",
       "      <td>1.0</td>\n",
       "    </tr>\n",
       "    <tr>\n",
       "      <th>3</th>\n",
       "      <td>4</td>\n",
       "      <td>0</td>\n",
       "      <td>82.0</td>\n",
       "      <td>0</td>\n",
       "      <td>0</td>\n",
       "      <td>0</td>\n",
       "      <td>0</td>\n",
       "      <td>0</td>\n",
       "      <td>1</td>\n",
       "      <td>1</td>\n",
       "      <td>...</td>\n",
       "      <td>0.0</td>\n",
       "      <td>0.0</td>\n",
       "      <td>1.0</td>\n",
       "      <td>0.0</td>\n",
       "      <td>0.0</td>\n",
       "      <td>0.0</td>\n",
       "      <td>0.0</td>\n",
       "      <td>0.0</td>\n",
       "      <td>0.0</td>\n",
       "      <td>1.0</td>\n",
       "    </tr>\n",
       "    <tr>\n",
       "      <th>4</th>\n",
       "      <td>5</td>\n",
       "      <td>0</td>\n",
       "      <td>276.0</td>\n",
       "      <td>0</td>\n",
       "      <td>0</td>\n",
       "      <td>0</td>\n",
       "      <td>1</td>\n",
       "      <td>0</td>\n",
       "      <td>1</td>\n",
       "      <td>1</td>\n",
       "      <td>...</td>\n",
       "      <td>0.0</td>\n",
       "      <td>0.0</td>\n",
       "      <td>1.0</td>\n",
       "      <td>0.0</td>\n",
       "      <td>0.0</td>\n",
       "      <td>0.0</td>\n",
       "      <td>0.0</td>\n",
       "      <td>0.0</td>\n",
       "      <td>0.0</td>\n",
       "      <td>1.0</td>\n",
       "    </tr>\n",
       "  </tbody>\n",
       "</table>\n",
       "<p>5 rows × 29 columns</p>\n",
       "</div>"
      ],
      "text/plain": [
       "   S.No  male  dateOfBirth  book1  book2  book3  book4  book5  isMarried  \\\n",
       "0     1     1        272.0      0      0      0      0      0          0   \n",
       "1     2     1        208.0      1      1      1      1      1          1   \n",
       "2     3     1        272.0      0      0      0      1      0          0   \n",
       "3     4     0         82.0      0      0      0      0      0          1   \n",
       "4     5     0        276.0      0      0      0      1      0          1   \n",
       "\n",
       "   isNoble  ...  title_septon  title_ser  title_title_other  title_winterfell  \\\n",
       "0        0  ...           0.0        0.0                0.0               0.0   \n",
       "1        1  ...           0.0        0.0                0.0               0.0   \n",
       "2        1  ...           0.0        1.0                0.0               0.0   \n",
       "3        1  ...           0.0        0.0                1.0               0.0   \n",
       "4        1  ...           0.0        0.0                1.0               0.0   \n",
       "\n",
       "   house_House Frey  house_House Lannister  house_House Stark  \\\n",
       "0               0.0                    0.0                0.0   \n",
       "1               1.0                    0.0                0.0   \n",
       "2               0.0                    0.0                0.0   \n",
       "3               0.0                    0.0                0.0   \n",
       "4               0.0                    0.0                0.0   \n",
       "\n",
       "   house_House Targaryen  house_Night's Watch  house_house_other  \n",
       "0                    0.0                  0.0                1.0  \n",
       "1                    0.0                  0.0                0.0  \n",
       "2                    0.0                  0.0                1.0  \n",
       "3                    0.0                  0.0                1.0  \n",
       "4                    0.0                  0.0                1.0  \n",
       "\n",
       "[5 rows x 29 columns]"
      ]
     },
     "execution_count": 83,
     "metadata": {},
     "output_type": "execute_result"
    }
   ],
   "source": [
    "new_train_columns = pd.DataFrame(new_category_columns, columns=ohe.get_feature_names_out())\n",
    "data_train = data_train.drop(columns=categorical_columns)\n",
    "data_train = pd.concat([data_train, new_train_columns], axis=1)\n",
    "data_train.head()"
   ]
  },
  {
   "cell_type": "code",
   "execution_count": 84,
   "id": "a855f529-a544-4701-86cd-b81e10ff13b3",
   "metadata": {},
   "outputs": [
    {
     "data": {
      "text/html": [
       "<div>\n",
       "<style scoped>\n",
       "    .dataframe tbody tr th:only-of-type {\n",
       "        vertical-align: middle;\n",
       "    }\n",
       "\n",
       "    .dataframe tbody tr th {\n",
       "        vertical-align: top;\n",
       "    }\n",
       "\n",
       "    .dataframe thead th {\n",
       "        text-align: right;\n",
       "    }\n",
       "</style>\n",
       "<table border=\"1\" class=\"dataframe\">\n",
       "  <thead>\n",
       "    <tr style=\"text-align: right;\">\n",
       "      <th></th>\n",
       "      <th>S.No</th>\n",
       "      <th>male</th>\n",
       "      <th>dateOfBirth</th>\n",
       "      <th>book1</th>\n",
       "      <th>book2</th>\n",
       "      <th>book3</th>\n",
       "      <th>book4</th>\n",
       "      <th>book5</th>\n",
       "      <th>isMarried</th>\n",
       "      <th>isNoble</th>\n",
       "      <th>...</th>\n",
       "      <th>title_septon</th>\n",
       "      <th>title_ser</th>\n",
       "      <th>title_title_other</th>\n",
       "      <th>title_winterfell</th>\n",
       "      <th>house_House Frey</th>\n",
       "      <th>house_House Lannister</th>\n",
       "      <th>house_House Stark</th>\n",
       "      <th>house_House Targaryen</th>\n",
       "      <th>house_Night's Watch</th>\n",
       "      <th>house_house_other</th>\n",
       "    </tr>\n",
       "  </thead>\n",
       "  <tbody>\n",
       "    <tr>\n",
       "      <th>0</th>\n",
       "      <td>1558</td>\n",
       "      <td>0</td>\n",
       "      <td>156.0</td>\n",
       "      <td>0</td>\n",
       "      <td>0</td>\n",
       "      <td>0</td>\n",
       "      <td>0</td>\n",
       "      <td>1</td>\n",
       "      <td>0</td>\n",
       "      <td>0</td>\n",
       "      <td>...</td>\n",
       "      <td>0.0</td>\n",
       "      <td>0.0</td>\n",
       "      <td>0.0</td>\n",
       "      <td>0.0</td>\n",
       "      <td>0.0</td>\n",
       "      <td>0.0</td>\n",
       "      <td>0.0</td>\n",
       "      <td>0.0</td>\n",
       "      <td>0.0</td>\n",
       "      <td>1.0</td>\n",
       "    </tr>\n",
       "    <tr>\n",
       "      <th>1</th>\n",
       "      <td>1559</td>\n",
       "      <td>0</td>\n",
       "      <td>272.0</td>\n",
       "      <td>0</td>\n",
       "      <td>1</td>\n",
       "      <td>1</td>\n",
       "      <td>1</td>\n",
       "      <td>1</td>\n",
       "      <td>0</td>\n",
       "      <td>0</td>\n",
       "      <td>...</td>\n",
       "      <td>0.0</td>\n",
       "      <td>0.0</td>\n",
       "      <td>0.0</td>\n",
       "      <td>0.0</td>\n",
       "      <td>0.0</td>\n",
       "      <td>0.0</td>\n",
       "      <td>0.0</td>\n",
       "      <td>0.0</td>\n",
       "      <td>0.0</td>\n",
       "      <td>1.0</td>\n",
       "    </tr>\n",
       "    <tr>\n",
       "      <th>2</th>\n",
       "      <td>1560</td>\n",
       "      <td>0</td>\n",
       "      <td>272.0</td>\n",
       "      <td>0</td>\n",
       "      <td>0</td>\n",
       "      <td>1</td>\n",
       "      <td>1</td>\n",
       "      <td>0</td>\n",
       "      <td>0</td>\n",
       "      <td>0</td>\n",
       "      <td>...</td>\n",
       "      <td>0.0</td>\n",
       "      <td>0.0</td>\n",
       "      <td>0.0</td>\n",
       "      <td>0.0</td>\n",
       "      <td>0.0</td>\n",
       "      <td>0.0</td>\n",
       "      <td>0.0</td>\n",
       "      <td>0.0</td>\n",
       "      <td>0.0</td>\n",
       "      <td>1.0</td>\n",
       "    </tr>\n",
       "    <tr>\n",
       "      <th>3</th>\n",
       "      <td>1561</td>\n",
       "      <td>1</td>\n",
       "      <td>272.0</td>\n",
       "      <td>1</td>\n",
       "      <td>1</td>\n",
       "      <td>1</td>\n",
       "      <td>1</td>\n",
       "      <td>1</td>\n",
       "      <td>0</td>\n",
       "      <td>1</td>\n",
       "      <td>...</td>\n",
       "      <td>0.0</td>\n",
       "      <td>1.0</td>\n",
       "      <td>0.0</td>\n",
       "      <td>0.0</td>\n",
       "      <td>0.0</td>\n",
       "      <td>0.0</td>\n",
       "      <td>0.0</td>\n",
       "      <td>0.0</td>\n",
       "      <td>0.0</td>\n",
       "      <td>1.0</td>\n",
       "    </tr>\n",
       "    <tr>\n",
       "      <th>4</th>\n",
       "      <td>1562</td>\n",
       "      <td>1</td>\n",
       "      <td>262.0</td>\n",
       "      <td>1</td>\n",
       "      <td>1</td>\n",
       "      <td>1</td>\n",
       "      <td>1</td>\n",
       "      <td>1</td>\n",
       "      <td>1</td>\n",
       "      <td>0</td>\n",
       "      <td>...</td>\n",
       "      <td>0.0</td>\n",
       "      <td>0.0</td>\n",
       "      <td>0.0</td>\n",
       "      <td>0.0</td>\n",
       "      <td>1.0</td>\n",
       "      <td>0.0</td>\n",
       "      <td>0.0</td>\n",
       "      <td>0.0</td>\n",
       "      <td>0.0</td>\n",
       "      <td>0.0</td>\n",
       "    </tr>\n",
       "  </tbody>\n",
       "</table>\n",
       "<p>5 rows × 29 columns</p>\n",
       "</div>"
      ],
      "text/plain": [
       "   S.No  male  dateOfBirth  book1  book2  book3  book4  book5  isMarried  \\\n",
       "0  1558     0        156.0      0      0      0      0      1          0   \n",
       "1  1559     0        272.0      0      1      1      1      1          0   \n",
       "2  1560     0        272.0      0      0      1      1      0          0   \n",
       "3  1561     1        272.0      1      1      1      1      1          0   \n",
       "4  1562     1        262.0      1      1      1      1      1          1   \n",
       "\n",
       "   isNoble  ...  title_septon  title_ser  title_title_other  title_winterfell  \\\n",
       "0        0  ...           0.0        0.0                0.0               0.0   \n",
       "1        0  ...           0.0        0.0                0.0               0.0   \n",
       "2        0  ...           0.0        0.0                0.0               0.0   \n",
       "3        1  ...           0.0        1.0                0.0               0.0   \n",
       "4        0  ...           0.0        0.0                0.0               0.0   \n",
       "\n",
       "   house_House Frey  house_House Lannister  house_House Stark  \\\n",
       "0               0.0                    0.0                0.0   \n",
       "1               0.0                    0.0                0.0   \n",
       "2               0.0                    0.0                0.0   \n",
       "3               0.0                    0.0                0.0   \n",
       "4               1.0                    0.0                0.0   \n",
       "\n",
       "   house_House Targaryen  house_Night's Watch  house_house_other  \n",
       "0                    0.0                  0.0                1.0  \n",
       "1                    0.0                  0.0                1.0  \n",
       "2                    0.0                  0.0                1.0  \n",
       "3                    0.0                  0.0                1.0  \n",
       "4                    0.0                  0.0                0.0  \n",
       "\n",
       "[5 rows x 29 columns]"
      ]
     },
     "execution_count": 84,
     "metadata": {},
     "output_type": "execute_result"
    }
   ],
   "source": [
    "new_category_columns_test = ohe.transform(data_test[categorical_columns])\n",
    "new_test_columns = pd.DataFrame(new_category_columns_test, columns=ohe.get_feature_names_out())\n",
    "data_test = data_test.drop(columns=categorical_columns)\n",
    "data_test = pd.concat([data_test, new_test_columns], axis=1)\n",
    "data_test.head()"
   ]
  },
  {
   "cell_type": "markdown",
   "id": "6beaae3f-eb5e-445e-9383-e830bb6f230e",
   "metadata": {},
   "source": [
    "#### **Задание 1.9.** Создайте переменные `X`, которая будет хранить только значения признаков, которые вы отобрали для включения в модель, и `y`, которая будет хранить только значения целевой переменной."
   ]
  },
  {
   "cell_type": "code",
   "execution_count": 97,
   "id": "75aeb64d-e9b8-44d0-87f1-cc94521fd3a7",
   "metadata": {},
   "outputs": [
    {
     "data": {
      "text/plain": [
       "Index(['S.No', 'male', 'dateOfBirth', 'book1', 'book2', 'book3', 'book4',\n",
       "       'book5', 'isMarried', 'isNoble', 'age', 'numDeadRelations',\n",
       "       'popularity', 'title_king', 'title_lady', 'title_lord', 'title_maester',\n",
       "       'title_not_title', 'title_princess', 'title_septon', 'title_ser',\n",
       "       'title_title_other', 'title_winterfell', 'house_House Frey',\n",
       "       'house_House Lannister', 'house_House Stark', 'house_House Targaryen',\n",
       "       'house_Nights Watch', 'house_house_other'],\n",
       "      dtype='object')"
      ]
     },
     "execution_count": 97,
     "metadata": {},
     "output_type": "execute_result"
    }
   ],
   "source": [
    "data_train.columns"
   ]
  },
  {
   "cell_type": "code",
   "execution_count": 94,
   "id": "6915db13-d137-4a9b-9f5d-83489e898f39",
   "metadata": {},
   "outputs": [],
   "source": [
    "data_train.rename(columns={\"house_Night's Watch\": \"house_Nights Watch\"}, inplace=True)\n",
    "data_test.rename(columns={\"house_Night's Watch\": \"house_Nights Watch\"}, inplace=True)"
   ]
  },
  {
   "cell_type": "code",
   "execution_count": 98,
   "id": "80c58415-bbf9-42f5-b74a-7b3f49facaf7",
   "metadata": {},
   "outputs": [],
   "source": [
    "target_cols = [\n",
    "    'male', 'dateOfBirth', 'book1', 'book2', 'book3', 'book4',\n",
    "       'book5', 'isMarried', 'isNoble', 'age', 'numDeadRelations',\n",
    "       'popularity', 'title_king', 'title_lady', 'title_lord', 'title_maester',\n",
    "       'title_not_title', 'title_princess', 'title_septon', 'title_ser',\n",
    "       'title_title_other', 'title_winterfell', 'house_House Frey',\n",
    "       'house_House Lannister', 'house_House Stark', 'house_House Targaryen',\n",
    "       'house_Nights Watch', 'house_house_other'\n",
    "]"
   ]
  },
  {
   "cell_type": "code",
   "execution_count": 99,
   "id": "407e5745-2f02-417b-b078-e833331230a4",
   "metadata": {},
   "outputs": [],
   "source": [
    "X = data_train[target_cols].copy()\n",
    "y = y_train.copy()"
   ]
  },
  {
   "cell_type": "markdown",
   "id": "73e6afd0-6a61-496f-a8c9-c2a9970836b8",
   "metadata": {},
   "source": [
    "#### **Задание 1.10.** Разделите датасет обучащую и валидационные части (train и val) при помощи функции `train_test_split` (https://scikit-learn.org/stable/modules/generated/sklearn.model_selection.train_test_split.html)"
   ]
  },
  {
   "cell_type": "code",
   "execution_count": 101,
   "id": "617b95f5-d4ee-4297-94b2-00b07f66b253",
   "metadata": {},
   "outputs": [],
   "source": [
    "X_train, X_val, y_train, y_val = train_test_split(\n",
    "    X, y, test_size=0.2, random_state=42,\n",
    ")"
   ]
  },
  {
   "cell_type": "markdown",
   "id": "ed3c6737-6a00-4681-99b4-19598440ef8b",
   "metadata": {},
   "source": [
    "### Часть 2. Обучение моделей"
   ]
  },
  {
   "cell_type": "markdown",
   "id": "34d2782f-bffc-48b5-814b-3a1be0847070",
   "metadata": {},
   "source": [
    "#### **Задание 2.1.**\n",
    "\n",
    "\n",
    "Вым можете работать с одно из предложенных моделей из библиотеки `sklearn`\n",
    "* LogisticRegression\n",
    "* RandomForestClassifier\n",
    "* AdaBoostClassifier\n",
    "* GaussianProcessClassifier\n",
    "* GaussianNB\n",
    "* KNeighborsClassifier\n",
    "* SVC\n",
    "* DecisionTreeClassifier\n"
   ]
  },
  {
   "cell_type": "code",
   "execution_count": 109,
   "id": "0e72bca3-fbca-41db-863e-c243704890f0",
   "metadata": {},
   "outputs": [],
   "source": [
    "from sklearn.linear_model import LogisticRegression\n",
    "from sklearn.metrics import accuracy_score"
   ]
  },
  {
   "cell_type": "code",
   "execution_count": 110,
   "id": "69ecaa84-e74c-4df3-95ec-15ea93e21ca4",
   "metadata": {},
   "outputs": [
    {
     "name": "stderr",
     "output_type": "stream",
     "text": [
      "C:\\Users\\petr\\PycharmProjects\\DLS\\venv\\lib\\site-packages\\sklearn\\linear_model\\_logistic.py:473: ConvergenceWarning: lbfgs failed to converge after 100 iteration(s) (status=1):\n",
      "STOP: TOTAL NO. OF ITERATIONS REACHED LIMIT\n",
      "\n",
      "Increase the number of iterations to improve the convergence (max_iter=100).\n",
      "You might also want to scale the data as shown in:\n",
      "    https://scikit-learn.org/stable/modules/preprocessing.html\n",
      "Please also refer to the documentation for alternative solver options:\n",
      "    https://scikit-learn.org/stable/modules/linear_model.html#logistic-regression\n",
      "  n_iter_i = _check_optimize_result(\n"
     ]
    }
   ],
   "source": [
    "clf = LogisticRegression(random_state=0).fit(X_train, y_train)"
   ]
  },
  {
   "cell_type": "code",
   "execution_count": 111,
   "id": "847e5aba-b0e9-467f-b469-4ef23e04f663",
   "metadata": {},
   "outputs": [
    {
     "name": "stderr",
     "output_type": "stream",
     "text": [
      "C:\\Users\\petr\\PycharmProjects\\DLS\\venv\\lib\\site-packages\\sklearn\\linear_model\\_logistic.py:473: ConvergenceWarning: lbfgs failed to converge after 100 iteration(s) (status=1):\n",
      "STOP: TOTAL NO. OF ITERATIONS REACHED LIMIT\n",
      "\n",
      "Increase the number of iterations to improve the convergence (max_iter=100).\n",
      "You might also want to scale the data as shown in:\n",
      "    https://scikit-learn.org/stable/modules/preprocessing.html\n",
      "Please also refer to the documentation for alternative solver options:\n",
      "    https://scikit-learn.org/stable/modules/linear_model.html#logistic-regression\n",
      "  n_iter_i = _check_optimize_result(\n"
     ]
    },
    {
     "data": {
      "text/html": [
       "<style>#sk-container-id-1 {\n",
       "  /* Definition of color scheme common for light and dark mode */\n",
       "  --sklearn-color-text: #000;\n",
       "  --sklearn-color-text-muted: #666;\n",
       "  --sklearn-color-line: gray;\n",
       "  /* Definition of color scheme for unfitted estimators */\n",
       "  --sklearn-color-unfitted-level-0: #fff5e6;\n",
       "  --sklearn-color-unfitted-level-1: #f6e4d2;\n",
       "  --sklearn-color-unfitted-level-2: #ffe0b3;\n",
       "  --sklearn-color-unfitted-level-3: chocolate;\n",
       "  /* Definition of color scheme for fitted estimators */\n",
       "  --sklearn-color-fitted-level-0: #f0f8ff;\n",
       "  --sklearn-color-fitted-level-1: #d4ebff;\n",
       "  --sklearn-color-fitted-level-2: #b3dbfd;\n",
       "  --sklearn-color-fitted-level-3: cornflowerblue;\n",
       "\n",
       "  /* Specific color for light theme */\n",
       "  --sklearn-color-text-on-default-background: var(--sg-text-color, var(--theme-code-foreground, var(--jp-content-font-color1, black)));\n",
       "  --sklearn-color-background: var(--sg-background-color, var(--theme-background, var(--jp-layout-color0, white)));\n",
       "  --sklearn-color-border-box: var(--sg-text-color, var(--theme-code-foreground, var(--jp-content-font-color1, black)));\n",
       "  --sklearn-color-icon: #696969;\n",
       "\n",
       "  @media (prefers-color-scheme: dark) {\n",
       "    /* Redefinition of color scheme for dark theme */\n",
       "    --sklearn-color-text-on-default-background: var(--sg-text-color, var(--theme-code-foreground, var(--jp-content-font-color1, white)));\n",
       "    --sklearn-color-background: var(--sg-background-color, var(--theme-background, var(--jp-layout-color0, #111)));\n",
       "    --sklearn-color-border-box: var(--sg-text-color, var(--theme-code-foreground, var(--jp-content-font-color1, white)));\n",
       "    --sklearn-color-icon: #878787;\n",
       "  }\n",
       "}\n",
       "\n",
       "#sk-container-id-1 {\n",
       "  color: var(--sklearn-color-text);\n",
       "}\n",
       "\n",
       "#sk-container-id-1 pre {\n",
       "  padding: 0;\n",
       "}\n",
       "\n",
       "#sk-container-id-1 input.sk-hidden--visually {\n",
       "  border: 0;\n",
       "  clip: rect(1px 1px 1px 1px);\n",
       "  clip: rect(1px, 1px, 1px, 1px);\n",
       "  height: 1px;\n",
       "  margin: -1px;\n",
       "  overflow: hidden;\n",
       "  padding: 0;\n",
       "  position: absolute;\n",
       "  width: 1px;\n",
       "}\n",
       "\n",
       "#sk-container-id-1 div.sk-dashed-wrapped {\n",
       "  border: 1px dashed var(--sklearn-color-line);\n",
       "  margin: 0 0.4em 0.5em 0.4em;\n",
       "  box-sizing: border-box;\n",
       "  padding-bottom: 0.4em;\n",
       "  background-color: var(--sklearn-color-background);\n",
       "}\n",
       "\n",
       "#sk-container-id-1 div.sk-container {\n",
       "  /* jupyter's `normalize.less` sets `[hidden] { display: none; }`\n",
       "     but bootstrap.min.css set `[hidden] { display: none !important; }`\n",
       "     so we also need the `!important` here to be able to override the\n",
       "     default hidden behavior on the sphinx rendered scikit-learn.org.\n",
       "     See: https://github.com/scikit-learn/scikit-learn/issues/21755 */\n",
       "  display: inline-block !important;\n",
       "  position: relative;\n",
       "}\n",
       "\n",
       "#sk-container-id-1 div.sk-text-repr-fallback {\n",
       "  display: none;\n",
       "}\n",
       "\n",
       "div.sk-parallel-item,\n",
       "div.sk-serial,\n",
       "div.sk-item {\n",
       "  /* draw centered vertical line to link estimators */\n",
       "  background-image: linear-gradient(var(--sklearn-color-text-on-default-background), var(--sklearn-color-text-on-default-background));\n",
       "  background-size: 2px 100%;\n",
       "  background-repeat: no-repeat;\n",
       "  background-position: center center;\n",
       "}\n",
       "\n",
       "/* Parallel-specific style estimator block */\n",
       "\n",
       "#sk-container-id-1 div.sk-parallel-item::after {\n",
       "  content: \"\";\n",
       "  width: 100%;\n",
       "  border-bottom: 2px solid var(--sklearn-color-text-on-default-background);\n",
       "  flex-grow: 1;\n",
       "}\n",
       "\n",
       "#sk-container-id-1 div.sk-parallel {\n",
       "  display: flex;\n",
       "  align-items: stretch;\n",
       "  justify-content: center;\n",
       "  background-color: var(--sklearn-color-background);\n",
       "  position: relative;\n",
       "}\n",
       "\n",
       "#sk-container-id-1 div.sk-parallel-item {\n",
       "  display: flex;\n",
       "  flex-direction: column;\n",
       "}\n",
       "\n",
       "#sk-container-id-1 div.sk-parallel-item:first-child::after {\n",
       "  align-self: flex-end;\n",
       "  width: 50%;\n",
       "}\n",
       "\n",
       "#sk-container-id-1 div.sk-parallel-item:last-child::after {\n",
       "  align-self: flex-start;\n",
       "  width: 50%;\n",
       "}\n",
       "\n",
       "#sk-container-id-1 div.sk-parallel-item:only-child::after {\n",
       "  width: 0;\n",
       "}\n",
       "\n",
       "/* Serial-specific style estimator block */\n",
       "\n",
       "#sk-container-id-1 div.sk-serial {\n",
       "  display: flex;\n",
       "  flex-direction: column;\n",
       "  align-items: center;\n",
       "  background-color: var(--sklearn-color-background);\n",
       "  padding-right: 1em;\n",
       "  padding-left: 1em;\n",
       "}\n",
       "\n",
       "\n",
       "/* Toggleable style: style used for estimator/Pipeline/ColumnTransformer box that is\n",
       "clickable and can be expanded/collapsed.\n",
       "- Pipeline and ColumnTransformer use this feature and define the default style\n",
       "- Estimators will overwrite some part of the style using the `sk-estimator` class\n",
       "*/\n",
       "\n",
       "/* Pipeline and ColumnTransformer style (default) */\n",
       "\n",
       "#sk-container-id-1 div.sk-toggleable {\n",
       "  /* Default theme specific background. It is overwritten whether we have a\n",
       "  specific estimator or a Pipeline/ColumnTransformer */\n",
       "  background-color: var(--sklearn-color-background);\n",
       "}\n",
       "\n",
       "/* Toggleable label */\n",
       "#sk-container-id-1 label.sk-toggleable__label {\n",
       "  cursor: pointer;\n",
       "  display: flex;\n",
       "  width: 100%;\n",
       "  margin-bottom: 0;\n",
       "  padding: 0.5em;\n",
       "  box-sizing: border-box;\n",
       "  text-align: center;\n",
       "  align-items: start;\n",
       "  justify-content: space-between;\n",
       "  gap: 0.5em;\n",
       "}\n",
       "\n",
       "#sk-container-id-1 label.sk-toggleable__label .caption {\n",
       "  font-size: 0.6rem;\n",
       "  font-weight: lighter;\n",
       "  color: var(--sklearn-color-text-muted);\n",
       "}\n",
       "\n",
       "#sk-container-id-1 label.sk-toggleable__label-arrow:before {\n",
       "  /* Arrow on the left of the label */\n",
       "  content: \"▸\";\n",
       "  float: left;\n",
       "  margin-right: 0.25em;\n",
       "  color: var(--sklearn-color-icon);\n",
       "}\n",
       "\n",
       "#sk-container-id-1 label.sk-toggleable__label-arrow:hover:before {\n",
       "  color: var(--sklearn-color-text);\n",
       "}\n",
       "\n",
       "/* Toggleable content - dropdown */\n",
       "\n",
       "#sk-container-id-1 div.sk-toggleable__content {\n",
       "  display: none;\n",
       "  text-align: left;\n",
       "  /* unfitted */\n",
       "  background-color: var(--sklearn-color-unfitted-level-0);\n",
       "}\n",
       "\n",
       "#sk-container-id-1 div.sk-toggleable__content.fitted {\n",
       "  /* fitted */\n",
       "  background-color: var(--sklearn-color-fitted-level-0);\n",
       "}\n",
       "\n",
       "#sk-container-id-1 div.sk-toggleable__content pre {\n",
       "  margin: 0.2em;\n",
       "  border-radius: 0.25em;\n",
       "  color: var(--sklearn-color-text);\n",
       "  /* unfitted */\n",
       "  background-color: var(--sklearn-color-unfitted-level-0);\n",
       "}\n",
       "\n",
       "#sk-container-id-1 div.sk-toggleable__content.fitted pre {\n",
       "  /* unfitted */\n",
       "  background-color: var(--sklearn-color-fitted-level-0);\n",
       "}\n",
       "\n",
       "#sk-container-id-1 input.sk-toggleable__control:checked~div.sk-toggleable__content {\n",
       "  /* Expand drop-down */\n",
       "  display: block;\n",
       "  width: 100%;\n",
       "  overflow: visible;\n",
       "}\n",
       "\n",
       "#sk-container-id-1 input.sk-toggleable__control:checked~label.sk-toggleable__label-arrow:before {\n",
       "  content: \"▾\";\n",
       "}\n",
       "\n",
       "/* Pipeline/ColumnTransformer-specific style */\n",
       "\n",
       "#sk-container-id-1 div.sk-label input.sk-toggleable__control:checked~label.sk-toggleable__label {\n",
       "  color: var(--sklearn-color-text);\n",
       "  background-color: var(--sklearn-color-unfitted-level-2);\n",
       "}\n",
       "\n",
       "#sk-container-id-1 div.sk-label.fitted input.sk-toggleable__control:checked~label.sk-toggleable__label {\n",
       "  background-color: var(--sklearn-color-fitted-level-2);\n",
       "}\n",
       "\n",
       "/* Estimator-specific style */\n",
       "\n",
       "/* Colorize estimator box */\n",
       "#sk-container-id-1 div.sk-estimator input.sk-toggleable__control:checked~label.sk-toggleable__label {\n",
       "  /* unfitted */\n",
       "  background-color: var(--sklearn-color-unfitted-level-2);\n",
       "}\n",
       "\n",
       "#sk-container-id-1 div.sk-estimator.fitted input.sk-toggleable__control:checked~label.sk-toggleable__label {\n",
       "  /* fitted */\n",
       "  background-color: var(--sklearn-color-fitted-level-2);\n",
       "}\n",
       "\n",
       "#sk-container-id-1 div.sk-label label.sk-toggleable__label,\n",
       "#sk-container-id-1 div.sk-label label {\n",
       "  /* The background is the default theme color */\n",
       "  color: var(--sklearn-color-text-on-default-background);\n",
       "}\n",
       "\n",
       "/* On hover, darken the color of the background */\n",
       "#sk-container-id-1 div.sk-label:hover label.sk-toggleable__label {\n",
       "  color: var(--sklearn-color-text);\n",
       "  background-color: var(--sklearn-color-unfitted-level-2);\n",
       "}\n",
       "\n",
       "/* Label box, darken color on hover, fitted */\n",
       "#sk-container-id-1 div.sk-label.fitted:hover label.sk-toggleable__label.fitted {\n",
       "  color: var(--sklearn-color-text);\n",
       "  background-color: var(--sklearn-color-fitted-level-2);\n",
       "}\n",
       "\n",
       "/* Estimator label */\n",
       "\n",
       "#sk-container-id-1 div.sk-label label {\n",
       "  font-family: monospace;\n",
       "  font-weight: bold;\n",
       "  display: inline-block;\n",
       "  line-height: 1.2em;\n",
       "}\n",
       "\n",
       "#sk-container-id-1 div.sk-label-container {\n",
       "  text-align: center;\n",
       "}\n",
       "\n",
       "/* Estimator-specific */\n",
       "#sk-container-id-1 div.sk-estimator {\n",
       "  font-family: monospace;\n",
       "  border: 1px dotted var(--sklearn-color-border-box);\n",
       "  border-radius: 0.25em;\n",
       "  box-sizing: border-box;\n",
       "  margin-bottom: 0.5em;\n",
       "  /* unfitted */\n",
       "  background-color: var(--sklearn-color-unfitted-level-0);\n",
       "}\n",
       "\n",
       "#sk-container-id-1 div.sk-estimator.fitted {\n",
       "  /* fitted */\n",
       "  background-color: var(--sklearn-color-fitted-level-0);\n",
       "}\n",
       "\n",
       "/* on hover */\n",
       "#sk-container-id-1 div.sk-estimator:hover {\n",
       "  /* unfitted */\n",
       "  background-color: var(--sklearn-color-unfitted-level-2);\n",
       "}\n",
       "\n",
       "#sk-container-id-1 div.sk-estimator.fitted:hover {\n",
       "  /* fitted */\n",
       "  background-color: var(--sklearn-color-fitted-level-2);\n",
       "}\n",
       "\n",
       "/* Specification for estimator info (e.g. \"i\" and \"?\") */\n",
       "\n",
       "/* Common style for \"i\" and \"?\" */\n",
       "\n",
       ".sk-estimator-doc-link,\n",
       "a:link.sk-estimator-doc-link,\n",
       "a:visited.sk-estimator-doc-link {\n",
       "  float: right;\n",
       "  font-size: smaller;\n",
       "  line-height: 1em;\n",
       "  font-family: monospace;\n",
       "  background-color: var(--sklearn-color-background);\n",
       "  border-radius: 1em;\n",
       "  height: 1em;\n",
       "  width: 1em;\n",
       "  text-decoration: none !important;\n",
       "  margin-left: 0.5em;\n",
       "  text-align: center;\n",
       "  /* unfitted */\n",
       "  border: var(--sklearn-color-unfitted-level-1) 1pt solid;\n",
       "  color: var(--sklearn-color-unfitted-level-1);\n",
       "}\n",
       "\n",
       ".sk-estimator-doc-link.fitted,\n",
       "a:link.sk-estimator-doc-link.fitted,\n",
       "a:visited.sk-estimator-doc-link.fitted {\n",
       "  /* fitted */\n",
       "  border: var(--sklearn-color-fitted-level-1) 1pt solid;\n",
       "  color: var(--sklearn-color-fitted-level-1);\n",
       "}\n",
       "\n",
       "/* On hover */\n",
       "div.sk-estimator:hover .sk-estimator-doc-link:hover,\n",
       ".sk-estimator-doc-link:hover,\n",
       "div.sk-label-container:hover .sk-estimator-doc-link:hover,\n",
       ".sk-estimator-doc-link:hover {\n",
       "  /* unfitted */\n",
       "  background-color: var(--sklearn-color-unfitted-level-3);\n",
       "  color: var(--sklearn-color-background);\n",
       "  text-decoration: none;\n",
       "}\n",
       "\n",
       "div.sk-estimator.fitted:hover .sk-estimator-doc-link.fitted:hover,\n",
       ".sk-estimator-doc-link.fitted:hover,\n",
       "div.sk-label-container:hover .sk-estimator-doc-link.fitted:hover,\n",
       ".sk-estimator-doc-link.fitted:hover {\n",
       "  /* fitted */\n",
       "  background-color: var(--sklearn-color-fitted-level-3);\n",
       "  color: var(--sklearn-color-background);\n",
       "  text-decoration: none;\n",
       "}\n",
       "\n",
       "/* Span, style for the box shown on hovering the info icon */\n",
       ".sk-estimator-doc-link span {\n",
       "  display: none;\n",
       "  z-index: 9999;\n",
       "  position: relative;\n",
       "  font-weight: normal;\n",
       "  right: .2ex;\n",
       "  padding: .5ex;\n",
       "  margin: .5ex;\n",
       "  width: min-content;\n",
       "  min-width: 20ex;\n",
       "  max-width: 50ex;\n",
       "  color: var(--sklearn-color-text);\n",
       "  box-shadow: 2pt 2pt 4pt #999;\n",
       "  /* unfitted */\n",
       "  background: var(--sklearn-color-unfitted-level-0);\n",
       "  border: .5pt solid var(--sklearn-color-unfitted-level-3);\n",
       "}\n",
       "\n",
       ".sk-estimator-doc-link.fitted span {\n",
       "  /* fitted */\n",
       "  background: var(--sklearn-color-fitted-level-0);\n",
       "  border: var(--sklearn-color-fitted-level-3);\n",
       "}\n",
       "\n",
       ".sk-estimator-doc-link:hover span {\n",
       "  display: block;\n",
       "}\n",
       "\n",
       "/* \"?\"-specific style due to the `<a>` HTML tag */\n",
       "\n",
       "#sk-container-id-1 a.estimator_doc_link {\n",
       "  float: right;\n",
       "  font-size: 1rem;\n",
       "  line-height: 1em;\n",
       "  font-family: monospace;\n",
       "  background-color: var(--sklearn-color-background);\n",
       "  border-radius: 1rem;\n",
       "  height: 1rem;\n",
       "  width: 1rem;\n",
       "  text-decoration: none;\n",
       "  /* unfitted */\n",
       "  color: var(--sklearn-color-unfitted-level-1);\n",
       "  border: var(--sklearn-color-unfitted-level-1) 1pt solid;\n",
       "}\n",
       "\n",
       "#sk-container-id-1 a.estimator_doc_link.fitted {\n",
       "  /* fitted */\n",
       "  border: var(--sklearn-color-fitted-level-1) 1pt solid;\n",
       "  color: var(--sklearn-color-fitted-level-1);\n",
       "}\n",
       "\n",
       "/* On hover */\n",
       "#sk-container-id-1 a.estimator_doc_link:hover {\n",
       "  /* unfitted */\n",
       "  background-color: var(--sklearn-color-unfitted-level-3);\n",
       "  color: var(--sklearn-color-background);\n",
       "  text-decoration: none;\n",
       "}\n",
       "\n",
       "#sk-container-id-1 a.estimator_doc_link.fitted:hover {\n",
       "  /* fitted */\n",
       "  background-color: var(--sklearn-color-fitted-level-3);\n",
       "}\n",
       "\n",
       ".estimator-table summary {\n",
       "    padding: .5rem;\n",
       "    font-family: monospace;\n",
       "    cursor: pointer;\n",
       "}\n",
       "\n",
       ".estimator-table details[open] {\n",
       "    padding-left: 0.1rem;\n",
       "    padding-right: 0.1rem;\n",
       "    padding-bottom: 0.3rem;\n",
       "}\n",
       "\n",
       ".estimator-table .parameters-table {\n",
       "    margin-left: auto !important;\n",
       "    margin-right: auto !important;\n",
       "}\n",
       "\n",
       ".estimator-table .parameters-table tr:nth-child(odd) {\n",
       "    background-color: #fff;\n",
       "}\n",
       "\n",
       ".estimator-table .parameters-table tr:nth-child(even) {\n",
       "    background-color: #f6f6f6;\n",
       "}\n",
       "\n",
       ".estimator-table .parameters-table tr:hover {\n",
       "    background-color: #e0e0e0;\n",
       "}\n",
       "\n",
       ".estimator-table table td {\n",
       "    border: 1px solid rgba(106, 105, 104, 0.232);\n",
       "}\n",
       "\n",
       ".user-set td {\n",
       "    color:rgb(255, 94, 0);\n",
       "    text-align: left;\n",
       "}\n",
       "\n",
       ".user-set td.value pre {\n",
       "    color:rgb(255, 94, 0) !important;\n",
       "    background-color: transparent !important;\n",
       "}\n",
       "\n",
       ".default td {\n",
       "    color: black;\n",
       "    text-align: left;\n",
       "}\n",
       "\n",
       ".user-set td i,\n",
       ".default td i {\n",
       "    color: black;\n",
       "}\n",
       "\n",
       ".copy-paste-icon {\n",
       "    background-image: url(data:image/svg+xml;base64,PHN2ZyB4bWxucz0iaHR0cDovL3d3dy53My5vcmcvMjAwMC9zdmciIHZpZXdCb3g9IjAgMCA0NDggNTEyIj48IS0tIUZvbnQgQXdlc29tZSBGcmVlIDYuNy4yIGJ5IEBmb250YXdlc29tZSAtIGh0dHBzOi8vZm9udGF3ZXNvbWUuY29tIExpY2Vuc2UgLSBodHRwczovL2ZvbnRhd2Vzb21lLmNvbS9saWNlbnNlL2ZyZWUgQ29weXJpZ2h0IDIwMjUgRm9udGljb25zLCBJbmMuLS0+PHBhdGggZD0iTTIwOCAwTDMzMi4xIDBjMTIuNyAwIDI0LjkgNS4xIDMzLjkgMTQuMWw2Ny45IDY3LjljOSA5IDE0LjEgMjEuMiAxNC4xIDMzLjlMNDQ4IDMzNmMwIDI2LjUtMjEuNSA0OC00OCA0OGwtMTkyIDBjLTI2LjUgMC00OC0yMS41LTQ4LTQ4bDAtMjg4YzAtMjYuNSAyMS41LTQ4IDQ4LTQ4ek00OCAxMjhsODAgMCAwIDY0LTY0IDAgMCAyNTYgMTkyIDAgMC0zMiA2NCAwIDAgNDhjMCAyNi41LTIxLjUgNDgtNDggNDhMNDggNTEyYy0yNi41IDAtNDgtMjEuNS00OC00OEwwIDE3NmMwLTI2LjUgMjEuNS00OCA0OC00OHoiLz48L3N2Zz4=);\n",
       "    background-repeat: no-repeat;\n",
       "    background-size: 14px 14px;\n",
       "    background-position: 0;\n",
       "    display: inline-block;\n",
       "    width: 14px;\n",
       "    height: 14px;\n",
       "    cursor: pointer;\n",
       "}\n",
       "</style><body><div id=\"sk-container-id-1\" class=\"sk-top-container\"><div class=\"sk-text-repr-fallback\"><pre>LogisticRegression(random_state=0)</pre><b>In a Jupyter environment, please rerun this cell to show the HTML representation or trust the notebook. <br />On GitHub, the HTML representation is unable to render, please try loading this page with nbviewer.org.</b></div><div class=\"sk-container\" hidden><div class=\"sk-item\"><div class=\"sk-estimator fitted sk-toggleable\"><input class=\"sk-toggleable__control sk-hidden--visually\" id=\"sk-estimator-id-1\" type=\"checkbox\" checked><label for=\"sk-estimator-id-1\" class=\"sk-toggleable__label fitted sk-toggleable__label-arrow\"><div><div>LogisticRegression</div></div><div><a class=\"sk-estimator-doc-link fitted\" rel=\"noreferrer\" target=\"_blank\" href=\"https://scikit-learn.org/1.7/modules/generated/sklearn.linear_model.LogisticRegression.html\">?<span>Documentation for LogisticRegression</span></a><span class=\"sk-estimator-doc-link fitted\">i<span>Fitted</span></span></div></label><div class=\"sk-toggleable__content fitted\" data-param-prefix=\"\">\n",
       "        <div class=\"estimator-table\">\n",
       "            <details>\n",
       "                <summary>Parameters</summary>\n",
       "                <table class=\"parameters-table\">\n",
       "                  <tbody>\n",
       "                    \n",
       "        <tr class=\"default\">\n",
       "            <td><i class=\"copy-paste-icon\"\n",
       "                 onclick=\"copyToClipboard('penalty',\n",
       "                          this.parentElement.nextElementSibling)\"\n",
       "            ></i></td>\n",
       "            <td class=\"param\">penalty&nbsp;</td>\n",
       "            <td class=\"value\">&#x27;l2&#x27;</td>\n",
       "        </tr>\n",
       "    \n",
       "\n",
       "        <tr class=\"default\">\n",
       "            <td><i class=\"copy-paste-icon\"\n",
       "                 onclick=\"copyToClipboard('dual',\n",
       "                          this.parentElement.nextElementSibling)\"\n",
       "            ></i></td>\n",
       "            <td class=\"param\">dual&nbsp;</td>\n",
       "            <td class=\"value\">False</td>\n",
       "        </tr>\n",
       "    \n",
       "\n",
       "        <tr class=\"default\">\n",
       "            <td><i class=\"copy-paste-icon\"\n",
       "                 onclick=\"copyToClipboard('tol',\n",
       "                          this.parentElement.nextElementSibling)\"\n",
       "            ></i></td>\n",
       "            <td class=\"param\">tol&nbsp;</td>\n",
       "            <td class=\"value\">0.0001</td>\n",
       "        </tr>\n",
       "    \n",
       "\n",
       "        <tr class=\"default\">\n",
       "            <td><i class=\"copy-paste-icon\"\n",
       "                 onclick=\"copyToClipboard('C',\n",
       "                          this.parentElement.nextElementSibling)\"\n",
       "            ></i></td>\n",
       "            <td class=\"param\">C&nbsp;</td>\n",
       "            <td class=\"value\">1.0</td>\n",
       "        </tr>\n",
       "    \n",
       "\n",
       "        <tr class=\"default\">\n",
       "            <td><i class=\"copy-paste-icon\"\n",
       "                 onclick=\"copyToClipboard('fit_intercept',\n",
       "                          this.parentElement.nextElementSibling)\"\n",
       "            ></i></td>\n",
       "            <td class=\"param\">fit_intercept&nbsp;</td>\n",
       "            <td class=\"value\">True</td>\n",
       "        </tr>\n",
       "    \n",
       "\n",
       "        <tr class=\"default\">\n",
       "            <td><i class=\"copy-paste-icon\"\n",
       "                 onclick=\"copyToClipboard('intercept_scaling',\n",
       "                          this.parentElement.nextElementSibling)\"\n",
       "            ></i></td>\n",
       "            <td class=\"param\">intercept_scaling&nbsp;</td>\n",
       "            <td class=\"value\">1</td>\n",
       "        </tr>\n",
       "    \n",
       "\n",
       "        <tr class=\"default\">\n",
       "            <td><i class=\"copy-paste-icon\"\n",
       "                 onclick=\"copyToClipboard('class_weight',\n",
       "                          this.parentElement.nextElementSibling)\"\n",
       "            ></i></td>\n",
       "            <td class=\"param\">class_weight&nbsp;</td>\n",
       "            <td class=\"value\">None</td>\n",
       "        </tr>\n",
       "    \n",
       "\n",
       "        <tr class=\"user-set\">\n",
       "            <td><i class=\"copy-paste-icon\"\n",
       "                 onclick=\"copyToClipboard('random_state',\n",
       "                          this.parentElement.nextElementSibling)\"\n",
       "            ></i></td>\n",
       "            <td class=\"param\">random_state&nbsp;</td>\n",
       "            <td class=\"value\">0</td>\n",
       "        </tr>\n",
       "    \n",
       "\n",
       "        <tr class=\"default\">\n",
       "            <td><i class=\"copy-paste-icon\"\n",
       "                 onclick=\"copyToClipboard('solver',\n",
       "                          this.parentElement.nextElementSibling)\"\n",
       "            ></i></td>\n",
       "            <td class=\"param\">solver&nbsp;</td>\n",
       "            <td class=\"value\">&#x27;lbfgs&#x27;</td>\n",
       "        </tr>\n",
       "    \n",
       "\n",
       "        <tr class=\"default\">\n",
       "            <td><i class=\"copy-paste-icon\"\n",
       "                 onclick=\"copyToClipboard('max_iter',\n",
       "                          this.parentElement.nextElementSibling)\"\n",
       "            ></i></td>\n",
       "            <td class=\"param\">max_iter&nbsp;</td>\n",
       "            <td class=\"value\">100</td>\n",
       "        </tr>\n",
       "    \n",
       "\n",
       "        <tr class=\"default\">\n",
       "            <td><i class=\"copy-paste-icon\"\n",
       "                 onclick=\"copyToClipboard('multi_class',\n",
       "                          this.parentElement.nextElementSibling)\"\n",
       "            ></i></td>\n",
       "            <td class=\"param\">multi_class&nbsp;</td>\n",
       "            <td class=\"value\">&#x27;deprecated&#x27;</td>\n",
       "        </tr>\n",
       "    \n",
       "\n",
       "        <tr class=\"default\">\n",
       "            <td><i class=\"copy-paste-icon\"\n",
       "                 onclick=\"copyToClipboard('verbose',\n",
       "                          this.parentElement.nextElementSibling)\"\n",
       "            ></i></td>\n",
       "            <td class=\"param\">verbose&nbsp;</td>\n",
       "            <td class=\"value\">0</td>\n",
       "        </tr>\n",
       "    \n",
       "\n",
       "        <tr class=\"default\">\n",
       "            <td><i class=\"copy-paste-icon\"\n",
       "                 onclick=\"copyToClipboard('warm_start',\n",
       "                          this.parentElement.nextElementSibling)\"\n",
       "            ></i></td>\n",
       "            <td class=\"param\">warm_start&nbsp;</td>\n",
       "            <td class=\"value\">False</td>\n",
       "        </tr>\n",
       "    \n",
       "\n",
       "        <tr class=\"default\">\n",
       "            <td><i class=\"copy-paste-icon\"\n",
       "                 onclick=\"copyToClipboard('n_jobs',\n",
       "                          this.parentElement.nextElementSibling)\"\n",
       "            ></i></td>\n",
       "            <td class=\"param\">n_jobs&nbsp;</td>\n",
       "            <td class=\"value\">None</td>\n",
       "        </tr>\n",
       "    \n",
       "\n",
       "        <tr class=\"default\">\n",
       "            <td><i class=\"copy-paste-icon\"\n",
       "                 onclick=\"copyToClipboard('l1_ratio',\n",
       "                          this.parentElement.nextElementSibling)\"\n",
       "            ></i></td>\n",
       "            <td class=\"param\">l1_ratio&nbsp;</td>\n",
       "            <td class=\"value\">None</td>\n",
       "        </tr>\n",
       "    \n",
       "                  </tbody>\n",
       "                </table>\n",
       "            </details>\n",
       "        </div>\n",
       "    </div></div></div></div></div><script>function copyToClipboard(text, element) {\n",
       "    // Get the parameter prefix from the closest toggleable content\n",
       "    const toggleableContent = element.closest('.sk-toggleable__content');\n",
       "    const paramPrefix = toggleableContent ? toggleableContent.dataset.paramPrefix : '';\n",
       "    const fullParamName = paramPrefix ? `${paramPrefix}${text}` : text;\n",
       "\n",
       "    const originalStyle = element.style;\n",
       "    const computedStyle = window.getComputedStyle(element);\n",
       "    const originalWidth = computedStyle.width;\n",
       "    const originalHTML = element.innerHTML.replace('Copied!', '');\n",
       "\n",
       "    navigator.clipboard.writeText(fullParamName)\n",
       "        .then(() => {\n",
       "            element.style.width = originalWidth;\n",
       "            element.style.color = 'green';\n",
       "            element.innerHTML = \"Copied!\";\n",
       "\n",
       "            setTimeout(() => {\n",
       "                element.innerHTML = originalHTML;\n",
       "                element.style = originalStyle;\n",
       "            }, 2000);\n",
       "        })\n",
       "        .catch(err => {\n",
       "            console.error('Failed to copy:', err);\n",
       "            element.style.color = 'red';\n",
       "            element.innerHTML = \"Failed!\";\n",
       "            setTimeout(() => {\n",
       "                element.innerHTML = originalHTML;\n",
       "                element.style = originalStyle;\n",
       "            }, 2000);\n",
       "        });\n",
       "    return false;\n",
       "}\n",
       "\n",
       "document.querySelectorAll('.fa-regular.fa-copy').forEach(function(element) {\n",
       "    const toggleableContent = element.closest('.sk-toggleable__content');\n",
       "    const paramPrefix = toggleableContent ? toggleableContent.dataset.paramPrefix : '';\n",
       "    const paramName = element.parentElement.nextElementSibling.textContent.trim();\n",
       "    const fullParamName = paramPrefix ? `${paramPrefix}${paramName}` : paramName;\n",
       "\n",
       "    element.setAttribute('title', fullParamName);\n",
       "});\n",
       "</script></body>"
      ],
      "text/plain": [
       "LogisticRegression(random_state=0)"
      ]
     },
     "execution_count": 111,
     "metadata": {},
     "output_type": "execute_result"
    }
   ],
   "source": [
    "clf.fit(X_train, y_train)"
   ]
  },
  {
   "cell_type": "code",
   "execution_count": 112,
   "id": "ef0b1b8d-2f7c-40ee-880e-3503d91e609b",
   "metadata": {},
   "outputs": [
    {
     "name": "stdout",
     "output_type": "stream",
     "text": [
      "Accuracy: 0.8205128205128205\n"
     ]
    }
   ],
   "source": [
    "y_pred = clf.predict(X_val)\n",
    "\n",
    "print(\"Accuracy:\", accuracy_score(y_val, y_pred))"
   ]
  },
  {
   "cell_type": "code",
   "execution_count": 113,
   "id": "8b815319-c97c-4514-9201-b61a7789f893",
   "metadata": {},
   "outputs": [
    {
     "data": {
      "text/plain": [
       "0.8313253012048193"
      ]
     },
     "execution_count": 113,
     "metadata": {},
     "output_type": "execute_result"
    }
   ],
   "source": [
    "clf.score(X_train, y_train)"
   ]
  },
  {
   "cell_type": "code",
   "execution_count": 114,
   "id": "3e450c96-d44c-4fe0-933b-976bc135c29d",
   "metadata": {},
   "outputs": [
    {
     "data": {
      "text/plain": [
       "0.8205128205128205"
      ]
     },
     "execution_count": 114,
     "metadata": {},
     "output_type": "execute_result"
    }
   ],
   "source": [
    "clf.score(X_val, y_val)"
   ]
  },
  {
   "cell_type": "code",
   "execution_count": 116,
   "id": "7409fe4a-60a5-4bc3-aec4-8e44fe5edb5f",
   "metadata": {},
   "outputs": [],
   "source": [
    "y_test = clf.predict(data_test[target_cols])"
   ]
  },
  {
   "cell_type": "code",
   "execution_count": 119,
   "id": "a84a6aa3-3b66-484e-ae70-41c041094cfd",
   "metadata": {},
   "outputs": [],
   "source": [
    "submission['isAlive'] = y_test"
   ]
  },
  {
   "cell_type": "code",
   "execution_count": 121,
   "id": "d2098289-7854-4a3a-8f1c-5823fd1d133b",
   "metadata": {},
   "outputs": [],
   "source": [
    "submission.to_csv('my_submission.csv', sep=',', index=False)"
   ]
  },
  {
   "cell_type": "code",
   "execution_count": null,
   "id": "eacd7582-167e-47c6-931b-2a60c462f486",
   "metadata": {},
   "outputs": [],
   "source": []
  }
 ],
 "metadata": {
  "kernelspec": {
   "display_name": "venv",
   "language": "python",
   "name": "venv"
  },
  "language_info": {
   "codemirror_mode": {
    "name": "ipython",
    "version": 3
   },
   "file_extension": ".py",
   "mimetype": "text/x-python",
   "name": "python",
   "nbconvert_exporter": "python",
   "pygments_lexer": "ipython3",
   "version": "3.10.11"
  }
 },
 "nbformat": 4,
 "nbformat_minor": 5
}
